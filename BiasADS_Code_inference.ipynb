{
  "metadata": {
    "kernelspec": {
      "display_name": "Python 3",
      "language": "python",
      "name": "python3"
    },
    "language_info": {
      "codemirror_mode": {
        "name": "ipython",
        "version": 3
      },
      "file_extension": ".py",
      "mimetype": "text/x-python",
      "name": "python",
      "nbconvert_exporter": "python",
      "pygments_lexer": "ipython3",
      "version": "3.6.6"
    },
    "kaggle": {
      "accelerator": "gpu",
      "dataSources": [
        {
          "sourceId": 12500,
          "databundleVersionId": 1375107,
          "sourceType": "competition"
        },
        {
          "sourceId": 505147,
          "sourceType": "datasetVersion",
          "datasetId": 207164
        },
        {
          "sourceId": 515048,
          "sourceType": "datasetVersion",
          "datasetId": 243479
        },
        {
          "sourceId": 516430,
          "sourceType": "datasetVersion",
          "datasetId": 236257
        },
        {
          "sourceId": 516500,
          "sourceType": "datasetVersion",
          "datasetId": 241628
        },
        {
          "sourceId": 563045,
          "sourceType": "datasetVersion",
          "datasetId": 226782
        }
      ],
      "dockerImageVersionId": 27938,
      "isInternetEnabled": false,
      "language": "python",
      "sourceType": "notebook",
      "isGpuEnabled": true
    },
    "colab": {
      "provenance": []
    }
  },
  "nbformat_minor": 0,
  "nbformat": 4,
  "cells": [
    {
      "cell_type": "code",
      "source": [
        "import os\n",
        "import re\n",
        "import gc\n",
        "import sys\n",
        "import time\n",
        "import json\n",
        "import random\n",
        "import unicodedata\n",
        "import multiprocessing\n",
        "from functools import partial, lru_cache\n",
        "\n",
        "import emoji\n",
        "\n",
        "import numpy as np\n",
        "import pandas as pd\n",
        "from sklearn.externals import joblib\n",
        "from tqdm import tqdm, tqdm_notebook\n",
        "\n",
        "from nltk import TweetTokenizer\n",
        "from nltk.stem import PorterStemmer, SnowballStemmer\n",
        "from nltk.stem.lancaster import LancasterStemmer\n",
        "\n",
        "import torch\n",
        "from torch import nn\n",
        "from torch.utils import data\n",
        "from torch.nn import functional as F\n",
        "from gensim.models import KeyedVectors\n",
        "from keras.preprocessing.sequence import pad_sequences\n",
        "\n",
        "class SequenceBucketCollator():\n",
        "    def __init__(self, choose_length, sequence_index, length_index, label_index=None):\n",
        "        self.choose_length = choose_length\n",
        "        self.sequence_index = sequence_index\n",
        "        self.length_index = length_index\n",
        "        self.label_index = label_index\n",
        "\n",
        "    def __call__(self, batch):\n",
        "        batch = [torch.stack(x) for x in list(zip(*batch))]\n",
        "\n",
        "        sequences = batch[self.sequence_index]\n",
        "        lengths = batch[self.length_index]\n",
        "\n",
        "        length = self.choose_length(lengths)\n",
        "        mask = torch.arange(start=maxlen, end=0, step=-1) < length\n",
        "        padded_sequences = sequences[:, mask]\n",
        "\n",
        "        batch[self.sequence_index] = padded_sequences\n",
        "\n",
        "        if self.label_index is not None:\n",
        "            return [x for i, x in enumerate(batch) if i != self.label_index], batch[self.label_index]\n",
        "\n",
        "        return batch\n",
        "\n",
        "\n",
        "CUSTOM_TABLE = str.maketrans(\n",
        "    {\n",
        "        \"\\xad\": None,\n",
        "        \"\\x7f\": None,\n",
        "        \"\\ufeff\": None,\n",
        "        \"\\u200b\": None,\n",
        "        \"\\u200e\": None,\n",
        "        \"\\u202a\": None,\n",
        "        \"\\u202c\": None,\n",
        "        \"‘\": \"'\",\n",
        "        \"’\": \"'\",\n",
        "        \"`\": \"'\",\n",
        "        \"“\": '\"',\n",
        "        \"”\": '\"',\n",
        "        \"«\": '\"',\n",
        "        \"»\": '\"',\n",
        "        \"ɢ\": \"G\",\n",
        "        \"ɪ\": \"I\",\n",
        "        \"ɴ\": \"N\",\n",
        "        \"ʀ\": \"R\",\n",
        "        \"ʏ\": \"Y\",\n",
        "        \"ʙ\": \"B\",\n",
        "        \"ʜ\": \"H\",\n",
        "        \"ʟ\": \"L\",\n",
        "        \"ғ\": \"F\",\n",
        "        \"ᴀ\": \"A\",\n",
        "        \"ᴄ\": \"C\",\n",
        "        \"ᴅ\": \"D\",\n",
        "        \"ᴇ\": \"E\",\n",
        "        \"ᴊ\": \"J\",\n",
        "        \"ᴋ\": \"K\",\n",
        "        \"ᴍ\": \"M\",\n",
        "        \"Μ\": \"M\",\n",
        "        \"ᴏ\": \"O\",\n",
        "        \"ᴘ\": \"P\",\n",
        "        \"ᴛ\": \"T\",\n",
        "        \"ᴜ\": \"U\",\n",
        "        \"ᴡ\": \"W\",\n",
        "        \"ᴠ\": \"V\",\n",
        "        \"ĸ\": \"K\",\n",
        "        \"в\": \"B\",\n",
        "        \"м\": \"M\",\n",
        "        \"н\": \"H\",\n",
        "        \"т\": \"T\",\n",
        "        \"ѕ\": \"S\",\n",
        "        \"—\": \"-\",\n",
        "        \"–\": \"-\",\n",
        "    }\n",
        ")\n",
        "\n",
        "WORDS_REPLACER = [\n",
        "    (\"sh*t\", \"shit\"),\n",
        "    (\"s**t\", \"shit\"),\n",
        "    (\"f*ck\", \"fuck\"),\n",
        "    (\"fu*k\", \"fuck\"),\n",
        "    (\"f**k\", \"fuck\"),\n",
        "    (\"f*****g\", \"fucking\"),\n",
        "    (\"f***ing\", \"fucking\"),\n",
        "    (\"f**king\", \"fucking\"),\n",
        "    (\"p*ssy\", \"pussy\"),\n",
        "    (\"p***y\", \"pussy\"),\n",
        "    (\"pu**y\", \"pussy\"),\n",
        "    (\"p*ss\", \"piss\"),\n",
        "    (\"b*tch\", \"bitch\"),\n",
        "    (\"bit*h\", \"bitch\"),\n",
        "    (\"h*ll\", \"hell\"),\n",
        "    (\"h**l\", \"hell\"),\n",
        "    (\"cr*p\", \"crap\"),\n",
        "    (\"d*mn\", \"damn\"),\n",
        "    (\"stu*pid\", \"stupid\"),\n",
        "    (\"st*pid\", \"stupid\"),\n",
        "    (\"n*gger\", \"nigger\"),\n",
        "    (\"n***ga\", \"nigger\"),\n",
        "    (\"f*ggot\", \"faggot\"),\n",
        "    (\"scr*w\", \"screw\"),\n",
        "    (\"pr*ck\", \"prick\"),\n",
        "    (\"g*d\", \"god\"),\n",
        "    (\"s*x\", \"sex\"),\n",
        "    (\"a*s\", \"ass\"),\n",
        "    (\"a**hole\", \"asshole\"),\n",
        "    (\"a***ole\", \"asshole\"),\n",
        "    (\"a**\", \"ass\"),\n",
        "]\n",
        "\n",
        "REGEX_REPLACER = [\n",
        "    (re.compile(pat.replace(\"*\", \"\\*\"), flags=re.IGNORECASE), repl)\n",
        "    for pat, repl in WORDS_REPLACER\n",
        "]\n",
        "\n",
        "RE_SPACE = re.compile(r\"\\s\")\n",
        "RE_MULTI_SPACE = re.compile(r\"\\s+\")\n",
        "\n",
        "NMS_TABLE = dict.fromkeys(\n",
        "    i for i in range(sys.maxunicode + 1) if unicodedata.category(chr(i)) == \"Mn\"\n",
        ")\n",
        "\n",
        "HEBREW_TABLE = {i: \"א\" for i in range(0x0590, 0x05FF)}\n",
        "ARABIC_TABLE = {i: \"ا\" for i in range(0x0600, 0x06FF)}\n",
        "CHINESE_TABLE = {i: \"是\" for i in range(0x4E00, 0x9FFF)}\n",
        "KANJI_TABLE = {i: \"ッ\" for i in range(0x2E80, 0x2FD5)}\n",
        "HIRAGANA_TABLE = {i: \"ッ\" for i in range(0x3041, 0x3096)}\n",
        "KATAKANA_TABLE = {i: \"ッ\" for i in range(0x30A0, 0x30FF)}\n",
        "\n",
        "TABLE = dict()\n",
        "TABLE.update(CUSTOM_TABLE)\n",
        "TABLE.update(NMS_TABLE)\n",
        "# Non-english languages\n",
        "TABLE.update(CHINESE_TABLE)\n",
        "TABLE.update(HEBREW_TABLE)\n",
        "TABLE.update(ARABIC_TABLE)\n",
        "TABLE.update(HIRAGANA_TABLE)\n",
        "TABLE.update(KATAKANA_TABLE)\n",
        "TABLE.update(KANJI_TABLE)\n",
        "\n",
        "\n",
        "EMOJI_REGEXP = emoji.get_emoji_regexp()\n",
        "\n",
        "UNICODE_EMOJI_MY = {\n",
        "    k: f\" EMJ {v.strip(':').replace('_', ' ')} \"\n",
        "    for k, v in emoji.UNICODE_EMOJI_ALIAS.items()\n",
        "}\n",
        "\n",
        "\n",
        "def my_demojize(string: str) -> str:\n",
        "    def replace(match):\n",
        "        return UNICODE_EMOJI_MY.get(match.group(0), match.group(0))\n",
        "\n",
        "    return re.sub(\"\\ufe0f\", \"\", EMOJI_REGEXP.sub(replace, string))\n",
        "\n",
        "\n",
        "def normalize(text: str) -> str:\n",
        "    text = my_demojize(text)\n",
        "\n",
        "    text = RE_SPACE.sub(\" \", text)\n",
        "    text = unicodedata.normalize(\"NFKD\", text)\n",
        "    text = text.translate(TABLE)\n",
        "    text = RE_MULTI_SPACE.sub(\" \", text).strip()\n",
        "\n",
        "    for pattern, repl in REGEX_REPLACER:\n",
        "        text = pattern.sub(repl, text)\n",
        "\n",
        "    return text\n",
        "\n",
        "\n",
        "PORTER_STEMMER = PorterStemmer()\n",
        "LANCASTER_STEMMER = LancasterStemmer()\n",
        "SNOWBALL_STEMMER = SnowballStemmer(\"english\")\n",
        "\n",
        "def word_forms(word):\n",
        "    yield word\n",
        "    yield word.lower()\n",
        "    yield word.upper()\n",
        "    yield word.capitalize()\n",
        "    yield PORTER_STEMMER.stem(word)\n",
        "    yield LANCASTER_STEMMER.stem(word)\n",
        "    yield SNOWBALL_STEMMER.stem(word)\n",
        "\n",
        "def maybe_get_embedding(word, model):\n",
        "    for form in word_forms(word):\n",
        "        if form in model:\n",
        "            return model[form]\n",
        "\n",
        "    word = word.strip(\"-'\")\n",
        "    for form in word_forms(word):\n",
        "        if form in model:\n",
        "            return model[form]\n",
        "\n",
        "    return None\n",
        "\n",
        "\n",
        "def gensim_to_embedding_matrix(word2index, path):\n",
        "    model = KeyedVectors.load(path, mmap=\"r\")\n",
        "    embedding_matrix = np.zeros((max(word2index.values()) + 1, model.vector_size), dtype=np.float32)\n",
        "    unknown_words = []\n",
        "\n",
        "    for word, i in word2index.items():\n",
        "        maybe_embedding = maybe_get_embedding(word, model)\n",
        "        if maybe_embedding is not None:\n",
        "            embedding_matrix[i] = maybe_embedding\n",
        "        else:\n",
        "            unknown_words.append(word)\n",
        "\n",
        "    return embedding_matrix, unknown_words"
      ],
      "metadata": {
        "_cell_guid": "b1076dfc-b9ad-4769-8c92-a6c4dae69d19",
        "_uuid": "8f2839f25d086af736a60e9eeb907d3b93b6e0e5",
        "execution": {
          "iopub.status.busy": "2024-05-08T16:42:11.606480Z",
          "iopub.execute_input": "2024-05-08T16:42:11.606779Z",
          "iopub.status.idle": "2024-05-08T16:42:13.380534Z",
          "shell.execute_reply.started": "2024-05-08T16:42:11.606734Z",
          "shell.execute_reply": "2024-05-08T16:42:13.379903Z"
        },
        "trusted": true,
        "id": "aRnpHiW6PQFA",
        "outputId": "e942b8d3-d555-4ade-ff44-cd5be97aed89"
      },
      "execution_count": null,
      "outputs": [
        {
          "name": "stderr",
          "text": "Using TensorFlow backend.\n",
          "output_type": "stream"
        }
      ]
    },
    {
      "cell_type": "code",
      "source": [
        "print (emoji.__version__)"
      ],
      "metadata": {
        "execution": {
          "iopub.status.busy": "2024-05-08T19:37:28.789360Z",
          "iopub.execute_input": "2024-05-08T19:37:28.789739Z",
          "iopub.status.idle": "2024-05-08T19:37:28.794283Z",
          "shell.execute_reply.started": "2024-05-08T19:37:28.789677Z",
          "shell.execute_reply": "2024-05-08T19:37:28.793422Z"
        },
        "trusted": true,
        "id": "CGVzEZizPQFG",
        "outputId": "8b3353bf-01d5-4709-8b52-0598bfb6043d"
      },
      "execution_count": null,
      "outputs": [
        {
          "name": "stdout",
          "text": "0.5.2\n",
          "output_type": "stream"
        }
      ]
    },
    {
      "cell_type": "code",
      "source": [
        "%%time\n",
        "\n",
        "test = pd.read_csv('../input/jigsaw-unintended-bias-in-toxicity-classification/test.csv')"
      ],
      "metadata": {
        "execution": {
          "iopub.status.busy": "2024-05-08T16:42:13.382601Z",
          "iopub.execute_input": "2024-05-08T16:42:13.382829Z",
          "iopub.status.idle": "2024-05-08T16:42:14.072888Z",
          "shell.execute_reply.started": "2024-05-08T16:42:13.382790Z",
          "shell.execute_reply": "2024-05-08T16:42:14.072083Z"
        },
        "trusted": true,
        "id": "d9evEJfPPQFH",
        "outputId": "c2e79207-fdcc-40a5-badb-9066e32d5ed0"
      },
      "execution_count": null,
      "outputs": [
        {
          "name": "stdout",
          "text": "CPU times: user 290 ms, sys: 59.3 ms, total: 350 ms\nWall time: 686 ms\n",
          "output_type": "stream"
        }
      ]
    },
    {
      "cell_type": "code",
      "source": [
        "# test = test.head(1000)"
      ],
      "metadata": {
        "execution": {
          "iopub.status.busy": "2024-05-08T16:42:14.074468Z",
          "iopub.execute_input": "2024-05-08T16:42:14.074783Z",
          "iopub.status.idle": "2024-05-08T16:42:14.078319Z",
          "shell.execute_reply.started": "2024-05-08T16:42:14.074724Z",
          "shell.execute_reply": "2024-05-08T16:42:14.077447Z"
        },
        "trusted": true,
        "id": "QfKXY3xtPQFI"
      },
      "execution_count": null,
      "outputs": []
    },
    {
      "cell_type": "code",
      "source": [
        "test.head()"
      ],
      "metadata": {
        "execution": {
          "iopub.status.busy": "2024-05-08T16:42:14.079622Z",
          "iopub.execute_input": "2024-05-08T16:42:14.079870Z",
          "iopub.status.idle": "2024-05-08T16:42:14.107478Z",
          "shell.execute_reply.started": "2024-05-08T16:42:14.079816Z",
          "shell.execute_reply": "2024-05-08T16:42:14.106457Z"
        },
        "trusted": true,
        "id": "tklgC7s3PQFI",
        "outputId": "6aa6f3ab-ebba-4016-e52d-4e53cb99f6ad"
      },
      "execution_count": null,
      "outputs": [
        {
          "execution_count": 4,
          "output_type": "execute_result",
          "data": {
            "text/plain": "        id                                       comment_text\n0  7097320  [ Integrity means that you pay your debts.]\\n\\...\n1  7097321  This is malfeasance by the Administrator and t...\n2  7097322  @Rmiller101 - Spoken like a true elitist. But ...\n3  7097323  Paul: Thank you for your kind words.  I do, in...\n4  7097324  Sorry you missed high school. Eisenhower sent ...",
            "text/html": "<div>\n<style scoped>\n    .dataframe tbody tr th:only-of-type {\n        vertical-align: middle;\n    }\n\n    .dataframe tbody tr th {\n        vertical-align: top;\n    }\n\n    .dataframe thead th {\n        text-align: right;\n    }\n</style>\n<table border=\"1\" class=\"dataframe\">\n  <thead>\n    <tr style=\"text-align: right;\">\n      <th></th>\n      <th>id</th>\n      <th>comment_text</th>\n    </tr>\n  </thead>\n  <tbody>\n    <tr>\n      <th>0</th>\n      <td>7097320</td>\n      <td>[ Integrity means that you pay your debts.]\\n\\...</td>\n    </tr>\n    <tr>\n      <th>1</th>\n      <td>7097321</td>\n      <td>This is malfeasance by the Administrator and t...</td>\n    </tr>\n    <tr>\n      <th>2</th>\n      <td>7097322</td>\n      <td>@Rmiller101 - Spoken like a true elitist. But ...</td>\n    </tr>\n    <tr>\n      <th>3</th>\n      <td>7097323</td>\n      <td>Paul: Thank you for your kind words.  I do, in...</td>\n    </tr>\n    <tr>\n      <th>4</th>\n      <td>7097324</td>\n      <td>Sorry you missed high school. Eisenhower sent ...</td>\n    </tr>\n  </tbody>\n</table>\n</div>"
          },
          "metadata": {}
        }
      ]
    },
    {
      "cell_type": "code",
      "source": [
        "test2 = pd.read_csv('../input/jigsaw-unintended-bias-in-toxicity-classification/test_public_expanded.csv')\n",
        "test2.head()"
      ],
      "metadata": {
        "execution": {
          "iopub.status.busy": "2024-05-08T16:42:14.110352Z",
          "iopub.execute_input": "2024-05-08T16:42:14.110578Z",
          "iopub.status.idle": "2024-05-08T16:42:15.483288Z",
          "shell.execute_reply.started": "2024-05-08T16:42:14.110541Z",
          "shell.execute_reply": "2024-05-08T16:42:15.482431Z"
        },
        "trusted": true,
        "id": "eV78qTa9PQFI",
        "outputId": "ba5cec1e-9898-476b-b9f6-443e2aab17ff"
      },
      "execution_count": null,
      "outputs": [
        {
          "execution_count": 5,
          "output_type": "execute_result",
          "data": {
            "text/plain": "        id       ...        other_disability\n0  7000000       ...                     NaN\n1  7000001       ...                     NaN\n2  7000002       ...                     NaN\n3  7000003       ...                     NaN\n4  7000004       ...                     NaN\n\n[5 rows x 45 columns]",
            "text/html": "<div>\n<style scoped>\n    .dataframe tbody tr th:only-of-type {\n        vertical-align: middle;\n    }\n\n    .dataframe tbody tr th {\n        vertical-align: top;\n    }\n\n    .dataframe thead th {\n        text-align: right;\n    }\n</style>\n<table border=\"1\" class=\"dataframe\">\n  <thead>\n    <tr style=\"text-align: right;\">\n      <th></th>\n      <th>id</th>\n      <th>comment_text</th>\n      <th>created_date</th>\n      <th>publication_id</th>\n      <th>parent_id</th>\n      <th>article_id</th>\n      <th>rating</th>\n      <th>funny</th>\n      <th>wow</th>\n      <th>sad</th>\n      <th>likes</th>\n      <th>disagree</th>\n      <th>toxicity</th>\n      <th>severe_toxicity</th>\n      <th>obscene</th>\n      <th>sexual_explicit</th>\n      <th>identity_attack</th>\n      <th>insult</th>\n      <th>threat</th>\n      <th>identity_annotator_count</th>\n      <th>toxicity_annotator_count</th>\n      <th>male</th>\n      <th>female</th>\n      <th>transgender</th>\n      <th>other_gender</th>\n      <th>heterosexual</th>\n      <th>homosexual_gay_or_lesbian</th>\n      <th>bisexual</th>\n      <th>other_sexual_orientation</th>\n      <th>christian</th>\n      <th>jewish</th>\n      <th>muslim</th>\n      <th>hindu</th>\n      <th>buddhist</th>\n      <th>atheist</th>\n      <th>other_religion</th>\n      <th>black</th>\n      <th>white</th>\n      <th>asian</th>\n      <th>latino</th>\n      <th>other_race_or_ethnicity</th>\n      <th>physical_disability</th>\n      <th>intellectual_or_learning_disability</th>\n      <th>psychiatric_or_mental_illness</th>\n      <th>other_disability</th>\n    </tr>\n  </thead>\n  <tbody>\n    <tr>\n      <th>0</th>\n      <td>7000000</td>\n      <td>Jeff Sessions is another one of Trump's Orwell...</td>\n      <td>2017-01-26 07:37:38.422417+00</td>\n      <td>13</td>\n      <td>NaN</td>\n      <td>164149</td>\n      <td>approved</td>\n      <td>0</td>\n      <td>0</td>\n      <td>0</td>\n      <td>4</td>\n      <td>0</td>\n      <td>0.200000</td>\n      <td>0.0</td>\n      <td>0.000000</td>\n      <td>0.0</td>\n      <td>0.0</td>\n      <td>0.200000</td>\n      <td>0.0</td>\n      <td>0</td>\n      <td>5</td>\n      <td>NaN</td>\n      <td>NaN</td>\n      <td>NaN</td>\n      <td>NaN</td>\n      <td>NaN</td>\n      <td>NaN</td>\n      <td>NaN</td>\n      <td>NaN</td>\n      <td>NaN</td>\n      <td>NaN</td>\n      <td>NaN</td>\n      <td>NaN</td>\n      <td>NaN</td>\n      <td>NaN</td>\n      <td>NaN</td>\n      <td>NaN</td>\n      <td>NaN</td>\n      <td>NaN</td>\n      <td>NaN</td>\n      <td>NaN</td>\n      <td>NaN</td>\n      <td>NaN</td>\n      <td>NaN</td>\n      <td>NaN</td>\n    </tr>\n    <tr>\n      <th>1</th>\n      <td>7000001</td>\n      <td>I actually inspected the infrastructure on Gra...</td>\n      <td>2016-12-03 20:38:21.204649+00</td>\n      <td>54</td>\n      <td>655260.0</td>\n      <td>154341</td>\n      <td>approved</td>\n      <td>0</td>\n      <td>0</td>\n      <td>0</td>\n      <td>2</td>\n      <td>4</td>\n      <td>0.000000</td>\n      <td>0.0</td>\n      <td>0.000000</td>\n      <td>0.0</td>\n      <td>0.0</td>\n      <td>0.000000</td>\n      <td>0.0</td>\n      <td>0</td>\n      <td>4</td>\n      <td>NaN</td>\n      <td>NaN</td>\n      <td>NaN</td>\n      <td>NaN</td>\n      <td>NaN</td>\n      <td>NaN</td>\n      <td>NaN</td>\n      <td>NaN</td>\n      <td>NaN</td>\n      <td>NaN</td>\n      <td>NaN</td>\n      <td>NaN</td>\n      <td>NaN</td>\n      <td>NaN</td>\n      <td>NaN</td>\n      <td>NaN</td>\n      <td>NaN</td>\n      <td>NaN</td>\n      <td>NaN</td>\n      <td>NaN</td>\n      <td>NaN</td>\n      <td>NaN</td>\n      <td>NaN</td>\n      <td>NaN</td>\n    </tr>\n    <tr>\n      <th>2</th>\n      <td>7000002</td>\n      <td>No it won't . That's just wishful thinking on ...</td>\n      <td>2017-05-05 18:07:58.560078+00</td>\n      <td>21</td>\n      <td>5219683.0</td>\n      <td>332005</td>\n      <td>approved</td>\n      <td>0</td>\n      <td>0</td>\n      <td>0</td>\n      <td>0</td>\n      <td>4</td>\n      <td>0.000000</td>\n      <td>0.0</td>\n      <td>0.000000</td>\n      <td>0.0</td>\n      <td>0.0</td>\n      <td>0.000000</td>\n      <td>0.0</td>\n      <td>0</td>\n      <td>4</td>\n      <td>NaN</td>\n      <td>NaN</td>\n      <td>NaN</td>\n      <td>NaN</td>\n      <td>NaN</td>\n      <td>NaN</td>\n      <td>NaN</td>\n      <td>NaN</td>\n      <td>NaN</td>\n      <td>NaN</td>\n      <td>NaN</td>\n      <td>NaN</td>\n      <td>NaN</td>\n      <td>NaN</td>\n      <td>NaN</td>\n      <td>NaN</td>\n      <td>NaN</td>\n      <td>NaN</td>\n      <td>NaN</td>\n      <td>NaN</td>\n      <td>NaN</td>\n      <td>NaN</td>\n      <td>NaN</td>\n      <td>NaN</td>\n    </tr>\n    <tr>\n      <th>3</th>\n      <td>7000003</td>\n      <td>Instead of wringing our hands and nibbling the...</td>\n      <td>2017-02-09 14:46:30.189044+00</td>\n      <td>13</td>\n      <td>NaN</td>\n      <td>167110</td>\n      <td>approved</td>\n      <td>0</td>\n      <td>0</td>\n      <td>1</td>\n      <td>12</td>\n      <td>0</td>\n      <td>0.000000</td>\n      <td>0.0</td>\n      <td>0.000000</td>\n      <td>0.0</td>\n      <td>0.0</td>\n      <td>0.000000</td>\n      <td>0.0</td>\n      <td>0</td>\n      <td>4</td>\n      <td>NaN</td>\n      <td>NaN</td>\n      <td>NaN</td>\n      <td>NaN</td>\n      <td>NaN</td>\n      <td>NaN</td>\n      <td>NaN</td>\n      <td>NaN</td>\n      <td>NaN</td>\n      <td>NaN</td>\n      <td>NaN</td>\n      <td>NaN</td>\n      <td>NaN</td>\n      <td>NaN</td>\n      <td>NaN</td>\n      <td>NaN</td>\n      <td>NaN</td>\n      <td>NaN</td>\n      <td>NaN</td>\n      <td>NaN</td>\n      <td>NaN</td>\n      <td>NaN</td>\n      <td>NaN</td>\n      <td>NaN</td>\n    </tr>\n    <tr>\n      <th>4</th>\n      <td>7000004</td>\n      <td>how many of you commenters have garbage piled ...</td>\n      <td>2016-10-15 01:18:40.521923+00</td>\n      <td>21</td>\n      <td>NaN</td>\n      <td>148484</td>\n      <td>approved</td>\n      <td>0</td>\n      <td>0</td>\n      <td>0</td>\n      <td>2</td>\n      <td>0</td>\n      <td>0.753846</td>\n      <td>0.0</td>\n      <td>0.046154</td>\n      <td>0.0</td>\n      <td>0.0</td>\n      <td>0.723077</td>\n      <td>0.0</td>\n      <td>0</td>\n      <td>65</td>\n      <td>NaN</td>\n      <td>NaN</td>\n      <td>NaN</td>\n      <td>NaN</td>\n      <td>NaN</td>\n      <td>NaN</td>\n      <td>NaN</td>\n      <td>NaN</td>\n      <td>NaN</td>\n      <td>NaN</td>\n      <td>NaN</td>\n      <td>NaN</td>\n      <td>NaN</td>\n      <td>NaN</td>\n      <td>NaN</td>\n      <td>NaN</td>\n      <td>NaN</td>\n      <td>NaN</td>\n      <td>NaN</td>\n      <td>NaN</td>\n      <td>NaN</td>\n      <td>NaN</td>\n      <td>NaN</td>\n      <td>NaN</td>\n    </tr>\n  </tbody>\n</table>\n</div>"
          },
          "metadata": {}
        }
      ]
    },
    {
      "cell_type": "code",
      "source": [
        "%%time\n",
        "with multiprocessing.Pool(processes=2) as pool:\n",
        "     text_list = pool.map(normalize, test.comment_text.tolist())"
      ],
      "metadata": {
        "execution": {
          "iopub.status.busy": "2024-05-08T16:42:15.485956Z",
          "iopub.execute_input": "2024-05-08T16:42:15.486198Z",
          "iopub.status.idle": "2024-05-08T16:43:19.451097Z",
          "shell.execute_reply.started": "2024-05-08T16:42:15.486158Z",
          "shell.execute_reply": "2024-05-08T16:43:19.450031Z"
        },
        "trusted": true,
        "id": "5jprz3nAPQFJ",
        "outputId": "ec7a465a-91c2-47ad-92b0-0eb35baf648d"
      },
      "execution_count": null,
      "outputs": [
        {
          "name": "stdout",
          "text": "CPU times: user 147 ms, sys: 111 ms, total: 258 ms\nWall time: 1min 3s\n",
          "output_type": "stream"
        }
      ]
    },
    {
      "cell_type": "code",
      "source": [
        "%%time\n",
        "tknzr = TweetTokenizer(strip_handles=True, reduce_len=True)\n",
        "\n",
        "test_word_sequences = []\n",
        "word_dict = {}\n",
        "word_index = 1\n",
        "\n",
        "for doc in text_list:\n",
        "    word_seq = []\n",
        "    for token in tknzr.tokenize(doc):\n",
        "        if token not in word_dict:\n",
        "            word_dict[token] = word_index\n",
        "            word_index += 1\n",
        "        word_seq.append(word_dict[token])\n",
        "    test_word_sequences.append(word_seq)"
      ],
      "metadata": {
        "execution": {
          "iopub.status.busy": "2024-05-08T16:43:19.453284Z",
          "iopub.execute_input": "2024-05-08T16:43:19.453669Z",
          "iopub.status.idle": "2024-05-08T16:44:03.248325Z",
          "shell.execute_reply.started": "2024-05-08T16:43:19.453600Z",
          "shell.execute_reply": "2024-05-08T16:44:03.247388Z"
        },
        "trusted": true,
        "id": "ZwACc-WNPQFK",
        "outputId": "78b2c27e-c061-45f9-a9d3-63802d92b37f"
      },
      "execution_count": null,
      "outputs": [
        {
          "name": "stdout",
          "text": "CPU times: user 43.7 s, sys: 72 ms, total: 43.8 s\nWall time: 43.8 s\n",
          "output_type": "stream"
        }
      ]
    },
    {
      "cell_type": "code",
      "source": [
        "%%time\n",
        "\n",
        "test_lengths = torch.from_numpy(np.array([len(x) for x in test_word_sequences]))\n",
        "maxlen = test_lengths.max()\n",
        "print(f\"Max len = {maxlen}\")\n",
        "maxlen = min(maxlen, 400)\n",
        "\n",
        "x_test_padded = torch.tensor(pad_sequences(test_word_sequences, maxlen=maxlen)).long()\n",
        "test_collator = SequenceBucketCollator(torch.max, sequence_index=0, length_index=1)\n",
        "\n",
        "del text_list, test_word_sequences, tknzr\n",
        "gc.collect()"
      ],
      "metadata": {
        "execution": {
          "iopub.status.busy": "2024-05-08T16:44:03.249639Z",
          "iopub.execute_input": "2024-05-08T16:44:03.249914Z",
          "iopub.status.idle": "2024-05-08T16:44:06.200105Z",
          "shell.execute_reply.started": "2024-05-08T16:44:03.249857Z",
          "shell.execute_reply": "2024-05-08T16:44:06.199270Z"
        },
        "trusted": true,
        "id": "zivp_1AxPQFK",
        "outputId": "75ffb899-2b09-4fb6-dfba-6fcf6f2009cc"
      },
      "execution_count": null,
      "outputs": [
        {
          "name": "stdout",
          "text": "Max len = 311\nCPU times: user 2.82 s, sys: 225 ms, total: 3.05 s\nWall time: 2.94 s\n",
          "output_type": "stream"
        }
      ]
    },
    {
      "cell_type": "code",
      "source": [
        "%%time\n",
        "\n",
        "glove_matrix, _ = gensim_to_embedding_matrix(\n",
        "    word_dict,\n",
        "    \"../input/gensim-embeddings-dataset/glove.840B.300d.gensim\",\n",
        ")\n",
        "\n",
        "crawl_matrix, _ = gensim_to_embedding_matrix(\n",
        "    word_dict,\n",
        "    \"../input/gensim-embeddings-dataset/crawl-300d-2M.gensim\",\n",
        ")\n",
        "\n",
        "para_matrix, _ = gensim_to_embedding_matrix(\n",
        "    word_dict,\n",
        "    \"../input/gensim-embeddings-dataset/paragram_300_sl999.gensim\",\n",
        ")\n",
        "\n",
        "w2v_matrix, _ = gensim_to_embedding_matrix(\n",
        "    word_dict,\n",
        "    \"../input/gensim-embeddings-dataset/GoogleNews-vectors-negative300.gensim\",\n",
        ")"
      ],
      "metadata": {
        "execution": {
          "iopub.status.busy": "2024-05-08T16:44:06.201476Z",
          "iopub.execute_input": "2024-05-08T16:44:06.201753Z",
          "iopub.status.idle": "2024-05-08T16:47:51.064839Z",
          "shell.execute_reply.started": "2024-05-08T16:44:06.201702Z",
          "shell.execute_reply": "2024-05-08T16:47:51.063866Z"
        },
        "trusted": true,
        "id": "mAXd40-TPQFL",
        "outputId": "98d77207-38b3-43a7-f4b6-ce3d9d025891"
      },
      "execution_count": null,
      "outputs": [
        {
          "name": "stderr",
          "text": "/opt/conda/lib/python3.6/site-packages/smart_open/smart_open_lib.py:398: UserWarning: This function is deprecated, use smart_open.open instead. See the migration notes for details: https://github.com/RaRe-Technologies/smart_open/blob/master/README.rst#migrating-to-the-new-open-function\n  'See the migration notes for details: %s' % _MIGRATION_NOTES_URL\n/opt/conda/lib/python3.6/site-packages/smart_open/smart_open_lib.py:398: UserWarning: This function is deprecated, use smart_open.open instead. See the migration notes for details: https://github.com/RaRe-Technologies/smart_open/blob/master/README.rst#migrating-to-the-new-open-function\n  'See the migration notes for details: %s' % _MIGRATION_NOTES_URL\n/opt/conda/lib/python3.6/site-packages/smart_open/smart_open_lib.py:398: UserWarning: This function is deprecated, use smart_open.open instead. See the migration notes for details: https://github.com/RaRe-Technologies/smart_open/blob/master/README.rst#migrating-to-the-new-open-function\n  'See the migration notes for details: %s' % _MIGRATION_NOTES_URL\n/opt/conda/lib/python3.6/site-packages/smart_open/smart_open_lib.py:398: UserWarning: This function is deprecated, use smart_open.open instead. See the migration notes for details: https://github.com/RaRe-Technologies/smart_open/blob/master/README.rst#migrating-to-the-new-open-function\n  'See the migration notes for details: %s' % _MIGRATION_NOTES_URL\n",
          "output_type": "stream"
        },
        {
          "name": "stdout",
          "text": "CPU times: user 45.7 s, sys: 6.01 s, total: 51.7 s\nWall time: 3min 44s\n",
          "output_type": "stream"
        }
      ]
    },
    {
      "cell_type": "code",
      "source": [
        "%%time\n",
        "\n",
        "def one_hot_char_embeddings(word2index, char_vectorizer):\n",
        "    words = [\"\"] * (max(word2index.values()) + 1)\n",
        "    for word, i in word2index.items():\n",
        "        words[i] = word\n",
        "\n",
        "    return char_vectorizer.transform(words).toarray().astype(np.float32)\n",
        "\n",
        "char_matrix = one_hot_char_embeddings(\n",
        "    word_dict,\n",
        "    joblib.load('../input/jigsaw-solution-ver-1/char_vectorizer.pkl'),\n",
        ")"
      ],
      "metadata": {
        "execution": {
          "iopub.status.busy": "2024-05-08T16:47:51.066436Z",
          "iopub.execute_input": "2024-05-08T16:47:51.066714Z",
          "iopub.status.idle": "2024-05-08T16:47:52.608862Z",
          "shell.execute_reply.started": "2024-05-08T16:47:51.066659Z",
          "shell.execute_reply": "2024-05-08T16:47:52.607734Z"
        },
        "trusted": true,
        "id": "JcugxyeTPQFL",
        "outputId": "c15147d0-e560-4e40-96ba-a6e24b8e478b"
      },
      "execution_count": null,
      "outputs": [
        {
          "name": "stderr",
          "text": "/opt/conda/lib/python3.6/site-packages/sklearn/base.py:306: UserWarning: Trying to unpickle estimator CountVectorizer from version 0.20.0 when using version 0.21.2. This might lead to breaking code or invalid results. Use at your own risk.\n  UserWarning)\n",
          "output_type": "stream"
        },
        {
          "name": "stdout",
          "text": "CPU times: user 1.46 s, sys: 63.7 ms, total: 1.52 s\nWall time: 1.54 s\n",
          "output_type": "stream"
        }
      ]
    },
    {
      "cell_type": "code",
      "source": [
        "LSTM_UNITS = 128\n",
        "DENSE_HIDDEN_UNITS = 6 * LSTM_UNITS\n",
        "\n",
        "class SpatialDropout(nn.Dropout2d):\n",
        "    def forward(self, x):\n",
        "        x = x.unsqueeze(2)\n",
        "        x = x.permute(0, 3, 2, 1)\n",
        "        x = super(SpatialDropout, self).forward(x)\n",
        "        x = x.permute(0, 3, 2, 1)\n",
        "        x = x.squeeze(2)\n",
        "        return x\n",
        "\n",
        "\n",
        "class NeuralNet(nn.Module):\n",
        "    def __init__(self, embedding_matrix, output_aux_sub=11):\n",
        "        super(NeuralNet, self).__init__()\n",
        "        embed_size = embedding_matrix.shape[1]\n",
        "\n",
        "        self.embedding = nn.Embedding(embedding_matrix.shape[0], embed_size)\n",
        "        self.embedding.weight = nn.Parameter(torch.tensor(embedding_matrix, dtype=torch.float32))\n",
        "        self.embedding.weight.requires_grad = False\n",
        "        self.embedding_dropout = SpatialDropout(0.3)\n",
        "\n",
        "        self.lstm1 = nn.LSTM(embed_size, LSTM_UNITS, bidirectional=True, batch_first=True)\n",
        "        self.lstm2 = nn.LSTM(LSTM_UNITS * 2, LSTM_UNITS, bidirectional=True, batch_first=True)\n",
        "\n",
        "        self.linear1 = nn.Linear(DENSE_HIDDEN_UNITS, DENSE_HIDDEN_UNITS)\n",
        "        self.linear2 = nn.Linear(DENSE_HIDDEN_UNITS, DENSE_HIDDEN_UNITS)\n",
        "\n",
        "        self.linear_out = nn.Linear(DENSE_HIDDEN_UNITS + 6 + output_aux_sub, 1)\n",
        "        self.linear_aux_out = nn.Linear(DENSE_HIDDEN_UNITS, 6)\n",
        "        self.linear_sub_out = nn.Linear(DENSE_HIDDEN_UNITS, output_aux_sub)\n",
        "\n",
        "    def forward(self, x, lengths=None):\n",
        "        h_embedding = self.embedding(x)\n",
        "        h_embedding = self.embedding_dropout(h_embedding)\n",
        "\n",
        "        h_lstm1, _ = self.lstm1(h_embedding)\n",
        "        h_lstm2, _ = self.lstm2(h_lstm1)\n",
        "\n",
        "        avg_pool1 = torch.mean(h_lstm1, 1)\n",
        "        avg_pool2 = torch.mean(h_lstm2, 1)\n",
        "        max_pool2, _ = torch.max(h_lstm2, 1)\n",
        "\n",
        "        h_conc = torch.cat((avg_pool1, max_pool2, avg_pool2), 1)\n",
        "        h_conc_linear1  = F.relu(self.linear1(h_conc))\n",
        "        h_conc_linear2  = F.relu(self.linear2(h_conc))\n",
        "\n",
        "        hidden = h_conc + h_conc_linear1 + h_conc_linear2\n",
        "\n",
        "        aux_result = self.linear_aux_out(hidden)\n",
        "        sub_result = self.linear_sub_out(hidden)\n",
        "        result = self.linear_out(torch.cat((hidden, aux_result, sub_result), 1))\n",
        "        out = torch.cat([result, aux_result, sub_result], 1)\n",
        "        return out\n",
        "\n",
        "\n",
        "def get_lstm_preds(model_name, embedding_matrix):\n",
        "    model = NeuralNet(embedding_matrix)\n",
        "    temp_dict = torch.load('../input/jigsaw-solution-ver-1/' + model_name)\n",
        "    temp_dict['embedding.weight'] = torch.tensor(embedding_matrix)\n",
        "    model.load_state_dict(temp_dict)\n",
        "    model = model.cuda()\n",
        "    for param in model.parameters():\n",
        "        param.requires_grad=False\n",
        "    model = model.eval()\n",
        "\n",
        "    batch_size = 256\n",
        "    test_dataset = data.TensorDataset(x_test_padded, test_lengths)\n",
        "    test_loader = data.DataLoader(test_dataset, batch_size=batch_size, collate_fn=test_collator)\n",
        "\n",
        "    preds = np.zeros((len(test_dataset), 18), dtype=np.float32)\n",
        "    with torch.no_grad():\n",
        "        for i, (x_batch) in enumerate(test_loader):\n",
        "            X_1 = x_batch[0].cuda()\n",
        "            y_pred = torch.sigmoid(model(X_1)).cpu().numpy()\n",
        "            preds[i * batch_size:(i + 1) * batch_size] = y_pred\n",
        "\n",
        "    return preds"
      ],
      "metadata": {
        "execution": {
          "iopub.status.busy": "2024-05-08T16:47:52.610589Z",
          "iopub.execute_input": "2024-05-08T16:47:52.610942Z",
          "iopub.status.idle": "2024-05-08T16:47:52.642831Z",
          "shell.execute_reply.started": "2024-05-08T16:47:52.610869Z",
          "shell.execute_reply": "2024-05-08T16:47:52.642148Z"
        },
        "trusted": true,
        "id": "OI7iwSRhPQFM"
      },
      "execution_count": null,
      "outputs": []
    },
    {
      "cell_type": "markdown",
      "source": [
        "# LSTM inference"
      ],
      "metadata": {
        "id": "sCj95_nfPQFM"
      }
    },
    {
      "cell_type": "code",
      "source": [
        "%%time\n",
        "\n",
        "lstm_models = ['Notebook_100_5.bin',\n",
        "               'Notebook_100_6.bin',\n",
        "               'Notebook_100_7.bin',\n",
        "               'Notebook_100_8.bin',\n",
        "               'Notebook_100_9.bin',\n",
        "               'Notebook_100_10.bin',\n",
        "               'Notebook_100_11.bin',\n",
        "               'Notebook_100_12.bin']\n",
        "\n",
        "embedding_matrix = np.concatenate([glove_matrix, crawl_matrix, w2v_matrix, char_matrix], axis=1)\n",
        "\n",
        "all_lstm_preds = []\n",
        "for model_name in lstm_models:\n",
        "    print(model_name)\n",
        "    preds = get_lstm_preds(model_name, embedding_matrix)\n",
        "    all_lstm_preds.append(preds)\n",
        "    gc.collect()"
      ],
      "metadata": {
        "execution": {
          "iopub.status.busy": "2024-05-08T16:47:52.644048Z",
          "iopub.execute_input": "2024-05-08T16:47:52.644308Z",
          "iopub.status.idle": "2024-05-08T16:50:17.380616Z",
          "shell.execute_reply.started": "2024-05-08T16:47:52.644261Z",
          "shell.execute_reply": "2024-05-08T16:50:17.379821Z"
        },
        "trusted": true,
        "id": "IkfsM66DPQFN",
        "outputId": "debcdf3c-bc7c-4adf-872f-2e5e535a1db1"
      },
      "execution_count": null,
      "outputs": [
        {
          "name": "stdout",
          "text": "Notebook_100_5.bin\nNotebook_100_6.bin\nNotebook_100_7.bin\nNotebook_100_8.bin\nNotebook_100_9.bin\nNotebook_100_10.bin\nNotebook_100_11.bin\nNotebook_100_12.bin\nCPU times: user 3min, sys: 6.96 s, total: 3min 7s\nWall time: 2min 24s\n",
          "output_type": "stream"
        }
      ]
    },
    {
      "cell_type": "code",
      "source": [
        "print(embedding_matrix.dtype)"
      ],
      "metadata": {
        "execution": {
          "iopub.status.busy": "2024-05-08T16:50:17.382125Z",
          "iopub.execute_input": "2024-05-08T16:50:17.382443Z",
          "iopub.status.idle": "2024-05-08T16:50:17.387096Z",
          "shell.execute_reply.started": "2024-05-08T16:50:17.382388Z",
          "shell.execute_reply": "2024-05-08T16:50:17.386314Z"
        },
        "trusted": true,
        "id": "MhvqRUd4PQFO",
        "outputId": "23ca68fd-ea61-4cbc-fbe6-def89778d3d8"
      },
      "execution_count": null,
      "outputs": [
        {
          "name": "stdout",
          "text": "float32\n",
          "output_type": "stream"
        }
      ]
    },
    {
      "cell_type": "code",
      "source": [
        "# lstm_models = ['Notebook_100_13.bin']\n",
        "\n",
        "# embedding_matrix = np.concatenate([glove_matrix, crawl_matrix, para_matrix, char_matrix], axis=1)\n",
        "\n",
        "# for model_name in lstm_models:\n",
        "#     print(model_name)\n",
        "#     preds = get_lstm_preds(model_name, embedding_matrix)\n",
        "#     all_lstm_preds.append(preds)\n",
        "#     gc.collect()"
      ],
      "metadata": {
        "execution": {
          "iopub.status.busy": "2024-05-08T16:50:17.388526Z",
          "iopub.execute_input": "2024-05-08T16:50:17.388851Z",
          "iopub.status.idle": "2024-05-08T16:50:17.398731Z",
          "shell.execute_reply.started": "2024-05-08T16:50:17.388772Z",
          "shell.execute_reply": "2024-05-08T16:50:17.397795Z"
        },
        "trusted": true,
        "id": "9m1yWur7PQFO"
      },
      "execution_count": null,
      "outputs": []
    },
    {
      "cell_type": "code",
      "source": [
        "%%time\n",
        "\n",
        "lstm_models = ['Notebook_100_1.bin']\n",
        "\n",
        "embedding_matrix = np.concatenate([para_matrix, crawl_matrix, w2v_matrix, char_matrix], axis=1)\n",
        "\n",
        "for model_name in lstm_models:\n",
        "    print(model_name)\n",
        "    preds = get_lstm_preds(model_name, embedding_matrix)\n",
        "    all_lstm_preds.append(preds)\n",
        "\n",
        "lstm_models = ['Notebook_100_2.bin']\n",
        "\n",
        "embedding_matrix = np.concatenate([glove_matrix, crawl_matrix, w2v_matrix, char_matrix], axis=1)\n",
        "\n",
        "for model_name in lstm_models:\n",
        "    print(model_name)\n",
        "    preds = get_lstm_preds(model_name, embedding_matrix)\n",
        "    all_lstm_preds.append(preds)\n",
        "\n",
        "lstm_models = ['Notebook_100_3.bin']\n",
        "\n",
        "embedding_matrix = np.concatenate([glove_matrix, para_matrix, w2v_matrix, char_matrix], axis=1)\n",
        "\n",
        "for model_name in lstm_models:\n",
        "    print(model_name)\n",
        "    preds = get_lstm_preds(model_name, embedding_matrix)\n",
        "    all_lstm_preds.append(preds)\n",
        "\n",
        "lstm_models = ['Notebook_100_4.bin']\n",
        "\n",
        "embedding_matrix = np.concatenate([glove_matrix, para_matrix, crawl_matrix, char_matrix], axis=1)\n",
        "\n",
        "for model_name in lstm_models:\n",
        "    print(model_name)\n",
        "    preds = get_lstm_preds(model_name, embedding_matrix)\n",
        "    all_lstm_preds.append(preds)"
      ],
      "metadata": {
        "execution": {
          "iopub.status.busy": "2024-05-08T16:50:17.399822Z",
          "iopub.execute_input": "2024-05-08T16:50:17.400082Z",
          "iopub.status.idle": "2024-05-08T16:51:27.940891Z",
          "shell.execute_reply.started": "2024-05-08T16:50:17.400039Z",
          "shell.execute_reply": "2024-05-08T16:51:27.940186Z"
        },
        "trusted": true,
        "id": "-NaU1InXPQFO",
        "outputId": "c2d7b789-2c46-4da0-f139-04b55a287a6e"
      },
      "execution_count": null,
      "outputs": [
        {
          "name": "stdout",
          "text": "Notebook_100_1.bin\nNotebook_100_2.bin\nNotebook_100_3.bin\nNotebook_100_4.bin\nCPU times: user 1min 29s, sys: 3.72 s, total: 1min 33s\nWall time: 1min 10s\n",
          "output_type": "stream"
        }
      ]
    },
    {
      "cell_type": "code",
      "source": [
        "def simple_magic(preds):\n",
        "    return (\n",
        "        preds[:, 0] + preds[:, 1] * 0.05 - preds[:, -1] * 0.05 - preds[:, 4] * 0.05\n",
        "    )\n",
        "\n",
        "def sophisticated_magic(preds):\n",
        "    return (\n",
        "        preds[:, 0] + preds[:, 1] * 0.05 - preds[:, -1] * 0.03 - preds[:, 4] * 0.03\n",
        "    ) - preds[:, 14] * (1 - preds[:, 0]) * 0.05 - preds[:, 10] * (1 - preds[:, 0]) * 0.05"
      ],
      "metadata": {
        "execution": {
          "iopub.status.busy": "2024-05-08T16:51:27.942259Z",
          "iopub.execute_input": "2024-05-08T16:51:27.942479Z",
          "iopub.status.idle": "2024-05-08T16:51:27.949471Z",
          "shell.execute_reply.started": "2024-05-08T16:51:27.942442Z",
          "shell.execute_reply": "2024-05-08T16:51:27.948812Z"
        },
        "trusted": true,
        "id": "8CZZX8j8PQFO"
      },
      "execution_count": null,
      "outputs": []
    },
    {
      "cell_type": "code",
      "source": [
        "# from scipy import stats\n",
        "\n",
        "all_lstm_preds = np.vstack([sophisticated_magic(x) for x in all_lstm_preds])\n",
        "# preds_lstm = np.median(all_lstm_preds, axis=0)  # MEDIAN ensemble\n",
        "# preds_lstm = stats.trim_mean(all_lstm_preds, 0.1, axis=0) # 10%-trimmed-mean"
      ],
      "metadata": {
        "execution": {
          "iopub.status.busy": "2024-05-08T16:51:27.950471Z",
          "iopub.execute_input": "2024-05-08T16:51:27.950674Z",
          "iopub.status.idle": "2024-05-08T16:51:28.005308Z",
          "shell.execute_reply.started": "2024-05-08T16:51:27.950639Z",
          "shell.execute_reply": "2024-05-08T16:51:28.004366Z"
        },
        "trusted": true,
        "id": "pTTmlhhJPQFP"
      },
      "execution_count": null,
      "outputs": []
    },
    {
      "cell_type": "code",
      "source": [
        "STORE = {\n",
        "    'lstm': all_lstm_preds.mean(0),\n",
        "}"
      ],
      "metadata": {
        "execution": {
          "iopub.status.busy": "2024-05-08T16:51:28.006967Z",
          "iopub.execute_input": "2024-05-08T16:51:28.007301Z",
          "iopub.status.idle": "2024-05-08T16:51:28.012129Z",
          "shell.execute_reply.started": "2024-05-08T16:51:28.007241Z",
          "shell.execute_reply": "2024-05-08T16:51:28.011262Z"
        },
        "trusted": true,
        "id": "WmZ7AefmPQFP"
      },
      "execution_count": null,
      "outputs": []
    },
    {
      "cell_type": "code",
      "source": [
        "del crawl_matrix, glove_matrix, para_matrix, w2v_matrix, embedding_matrix\n",
        "del test_lengths, maxlen, x_test_padded, test_collator\n",
        "del lstm_models, all_lstm_preds\n",
        "del word_dict, word_index\n",
        "gc.collect()"
      ],
      "metadata": {
        "execution": {
          "iopub.status.busy": "2024-05-08T16:51:28.013604Z",
          "iopub.execute_input": "2024-05-08T16:51:28.013912Z",
          "iopub.status.idle": "2024-05-08T16:51:28.214457Z",
          "shell.execute_reply.started": "2024-05-08T16:51:28.013856Z",
          "shell.execute_reply": "2024-05-08T16:51:28.213750Z"
        },
        "trusted": true,
        "id": "FtjtJqvoPQFP",
        "outputId": "120d94be-b6dd-47bb-83e2-dc1ac6b830c4"
      },
      "execution_count": null,
      "outputs": [
        {
          "execution_count": 19,
          "output_type": "execute_result",
          "data": {
            "text/plain": "0"
          },
          "metadata": {}
        }
      ]
    },
    {
      "cell_type": "markdown",
      "source": [
        "# BERT inference"
      ],
      "metadata": {
        "id": "-bqOu0yEPQFP"
      }
    },
    {
      "cell_type": "code",
      "source": [
        "from pytorch_pretrained_bert import BertTokenizer, BertConfig, BertForSequenceClassification\n",
        "\n",
        "UNCASED_BERT_MODEL_PATH = \"../input/transformer-tokenizers/bert-base-uncased/\"\n",
        "CASED_BERT_MODEL_PATH = \"../input/transformer-tokenizers/bert-base-cased/\"\n",
        "\n",
        "\n",
        "def clip_to_max_len(batch):\n",
        "    X, lengths = map(torch.stack, zip(*batch))\n",
        "    max_len = torch.max(lengths).item()\n",
        "    return X[:, :max_len]\n",
        "\n",
        "def prepare_bert(bin_file, is_cased):\n",
        "    bert_path = CASED_BERT_MODEL_PATH if is_cased else UNCASED_BERT_MODEL_PATH\n",
        "    config = BertConfig(os.path.join(bert_path, \"bert_config.json\"))\n",
        "    model = BertForSequenceClassification(config, num_labels=18)\n",
        "    model.load_state_dict(torch.load(bin_file, map_location=\"cpu\"))\n",
        "    for p in model.parameters():\n",
        "        p.requires_grad = False\n",
        "    model = model.eval()\n",
        "    model = model.cuda()\n",
        "    return model\n",
        "\n",
        "def prepare_tokenizer(is_cased):\n",
        "    if is_cased:\n",
        "        return BertTokenizer.from_pretrained(CASED_BERT_MODEL_PATH, do_lower_case=False)\n",
        "    else:\n",
        "        return BertTokenizer.from_pretrained(UNCASED_BERT_MODEL_PATH, do_lower_case=True)\n",
        "\n",
        "\n",
        "def apply_bert(model, loader):\n",
        "    preds = np.zeros((len(loader.dataset), 18), dtype=np.float32)\n",
        "    for i, X in enumerate(loader):\n",
        "        X = X.cuda()\n",
        "        p = torch.sigmoid(model(X, attention_mask=(X > 0)))\n",
        "        preds[i * loader.batch_size : (i + 1) * loader.batch_size] = p.cpu().numpy()\n",
        "    return preds"
      ],
      "metadata": {
        "execution": {
          "iopub.status.busy": "2024-05-08T16:51:28.215848Z",
          "iopub.execute_input": "2024-05-08T16:51:28.216140Z",
          "iopub.status.idle": "2024-05-08T16:51:28.248023Z",
          "shell.execute_reply.started": "2024-05-08T16:51:28.216089Z",
          "shell.execute_reply": "2024-05-08T16:51:28.247467Z"
        },
        "trusted": true,
        "id": "wqefYv35PQFP"
      },
      "execution_count": null,
      "outputs": []
    },
    {
      "cell_type": "markdown",
      "source": [
        "## UNCASED"
      ],
      "metadata": {
        "id": "dabTGqaXPQFQ"
      }
    },
    {
      "cell_type": "code",
      "source": [
        "%%time\n",
        "tokenizer = prepare_tokenizer(is_cased=False)\n",
        "MAX_LEN = 400 - 2\n",
        "\n",
        "def convert_line(text):\n",
        "    tokens_a = tokenizer.tokenize(text)[:MAX_LEN]\n",
        "    one_token = tokenizer.convert_tokens_to_ids([\"[CLS]\"] + tokens_a + [\"[SEP]\"])\n",
        "    one_token += [0] * (MAX_LEN - len(tokens_a))\n",
        "    return one_token\n",
        "\n",
        "with multiprocessing.Pool(processes=2) as pool:\n",
        "    sequences = pool.map(convert_line, test.comment_text)\n",
        "sequences = np.array(sequences)\n",
        "\n",
        "lengths = np.argmax(sequences == 0, axis=1)\n",
        "lengths[lengths == 0] = sequences.shape[1]\n",
        "\n",
        "ids = lengths.argsort(kind=\"stable\")\n",
        "inverse_ids = test.id.values[ids].argsort(kind=\"stable\")\n",
        "\n",
        "sequences = torch.from_numpy(sequences)\n",
        "lengths = torch.from_numpy(lengths)\n",
        "\n",
        "test_dataset = data.TensorDataset(sequences, lengths)\n",
        "test_loader = data.DataLoader(data.Subset(test_dataset, ids), batch_size=128, collate_fn=clip_to_max_len)"
      ],
      "metadata": {
        "execution": {
          "iopub.status.busy": "2024-05-08T16:51:28.249263Z",
          "iopub.execute_input": "2024-05-08T16:51:28.249478Z",
          "iopub.status.idle": "2024-05-08T16:53:06.342286Z",
          "shell.execute_reply.started": "2024-05-08T16:51:28.249441Z",
          "shell.execute_reply": "2024-05-08T16:53:06.341538Z"
        },
        "trusted": true,
        "id": "hnumCebHPQFQ",
        "outputId": "b995b0b7-7314-4065-d046-6151ed8a3e45"
      },
      "execution_count": null,
      "outputs": [
        {
          "name": "stdout",
          "text": "CPU times: user 10.4 s, sys: 756 ms, total: 11.2 s\nWall time: 1min 38s\n",
          "output_type": "stream"
        }
      ]
    },
    {
      "cell_type": "code",
      "source": [
        "%%time\n",
        "\n",
        "UNCASED_BERT_MODELS = [\n",
        "    \"BERT_exp_BERT_3_decay_5_epoch_1\",\n",
        "    \"final-pipe1-raw_1\",\n",
        "    \"final-pipe1-raw_2\",\n",
        "    \"final-pipe1-raw_3\",\n",
        "    \"final-pipe2-raw_1\",\n",
        "    \"final-pipe2-raw_2\",\n",
        "    \"final-pipe2-raw_3\",\n",
        "    \"final-pipe4-wiki_raw_1\",\n",
        "    \"final-pipe4-wiki_raw_2\",\n",
        "    \"final-pipe4-wiki_raw_3\",\n",
        "]\n",
        "\n",
        "for path in UNCASED_BERT_MODELS:\n",
        "    model = prepare_bert(f\"../input/toxic-models-zoo/{path}.bin\", is_cased=False)\n",
        "    preds = apply_bert(model, test_loader)\n",
        "    STORE[path] = sophisticated_magic(preds)[inverse_ids]\n",
        "\n",
        "\n",
        "for path in [\"final-pipe2-raw_4\", \"BERT_exp_BERT_3_epoch_1\"]:\n",
        "    model = prepare_bert(f\"../input/jigsaw-solution-ver-1/{path}.bin\", is_cased=False)\n",
        "    preds = apply_bert(model, test_loader)\n",
        "    STORE[path] = sophisticated_magic(preds)[inverse_ids]"
      ],
      "metadata": {
        "execution": {
          "iopub.status.busy": "2024-05-08T16:53:06.343717Z",
          "iopub.execute_input": "2024-05-08T16:53:06.343989Z",
          "iopub.status.idle": "2024-05-08T17:37:16.899222Z",
          "shell.execute_reply.started": "2024-05-08T16:53:06.343946Z",
          "shell.execute_reply": "2024-05-08T17:37:16.898368Z"
        },
        "trusted": true,
        "id": "9h9OfKTDPQFQ",
        "outputId": "55ac4fc6-ba22-443e-d236-dc93ebd0a8c4"
      },
      "execution_count": null,
      "outputs": [
        {
          "name": "stdout",
          "text": "CPU times: user 43min 9s, sys: 4.81 s, total: 43min 14s\nWall time: 44min 10s\n",
          "output_type": "stream"
        }
      ]
    },
    {
      "cell_type": "markdown",
      "source": [
        "## CASED"
      ],
      "metadata": {
        "id": "uwdbS74pPQFQ"
      }
    },
    {
      "cell_type": "code",
      "source": [
        "%%time\n",
        "tokenizer = prepare_tokenizer(is_cased=True)\n",
        "\n",
        "def convert_line(text):\n",
        "    tokens_a = tokenizer.tokenize(text)[:MAX_LEN]\n",
        "    one_token = tokenizer.convert_tokens_to_ids([\"[CLS]\"] + tokens_a + [\"[SEP]\"])\n",
        "    one_token += [0] * (MAX_LEN - len(tokens_a))\n",
        "    return one_token\n",
        "\n",
        "with multiprocessing.Pool(processes=2) as pool:\n",
        "    sequences = pool.map(convert_line, test.comment_text)\n",
        "sequences = np.array(sequences)\n",
        "\n",
        "lengths = np.argmax(sequences == 0, axis=1)\n",
        "lengths[lengths == 0] = sequences.shape[1]\n",
        "\n",
        "ids = lengths.argsort(kind=\"stable\")\n",
        "inverse_ids = test.id.values[ids].argsort(kind=\"stable\")\n",
        "\n",
        "sequences = torch.from_numpy(sequences)\n",
        "lengths = torch.from_numpy(lengths)\n",
        "\n",
        "test_dataset = data.TensorDataset(sequences, lengths)\n",
        "test_loader = data.DataLoader(data.Subset(test_dataset, ids), batch_size=128, collate_fn=clip_to_max_len)"
      ],
      "metadata": {
        "execution": {
          "iopub.status.busy": "2024-05-08T17:37:16.900592Z",
          "iopub.execute_input": "2024-05-08T17:37:16.900813Z",
          "iopub.status.idle": "2024-05-08T17:38:44.779022Z",
          "shell.execute_reply.started": "2024-05-08T17:37:16.900776Z",
          "shell.execute_reply": "2024-05-08T17:38:44.778065Z"
        },
        "trusted": true,
        "id": "z_RF8QnwPQFQ",
        "outputId": "6484d060-d168-4318-fc8c-44784f3abd68"
      },
      "execution_count": null,
      "outputs": [
        {
          "name": "stdout",
          "text": "CPU times: user 10.2 s, sys: 825 ms, total: 11.1 s\nWall time: 1min 27s\n",
          "output_type": "stream"
        }
      ]
    },
    {
      "cell_type": "code",
      "source": [
        "%%time\n",
        "\n",
        "CASED_BERT_MODELS = [\n",
        "    \"BERT_exp_BERT_3_cased_decay_epoch_1\",\n",
        "    \"final-pipe2-cased_1\",\n",
        "    \"final-pipe2-cased_2\",\n",
        "    \"final-pipe2-cased_3\",\n",
        "#     \"final-pipe2-cased_4\",\n",
        "#     \"final-pipe2-cased_5\",\n",
        "#     \"final-pipe2-cased_6\",\n",
        "    \"final-pipe5-wiki_cased_1\",\n",
        "    \"final-pipe5-wiki_cased_2\",\n",
        "    \"final-pipe5-wiki_cased_3\",\n",
        "]\n",
        "\n",
        "for path in CASED_BERT_MODELS:\n",
        "    model = prepare_bert(f\"../input/toxic-models-zoo/{path}.bin\", is_cased=True)\n",
        "    preds = apply_bert(model, test_loader)\n",
        "    STORE[path] = sophisticated_magic(preds)[inverse_ids]\n",
        "\n",
        "\n",
        "for path in [\"final-pipe2-cased_10\"]:\n",
        "    model = prepare_bert(f\"../input/jigsaw-solution-ver-1/{path}.bin\", is_cased=True)\n",
        "    preds = apply_bert(model, test_loader)\n",
        "    STORE[path] = sophisticated_magic(preds)[inverse_ids]"
      ],
      "metadata": {
        "execution": {
          "iopub.status.busy": "2024-05-08T17:38:44.780572Z",
          "iopub.execute_input": "2024-05-08T17:38:44.780823Z",
          "iopub.status.idle": "2024-05-08T18:09:07.066100Z",
          "shell.execute_reply.started": "2024-05-08T17:38:44.780783Z",
          "shell.execute_reply": "2024-05-08T18:09:07.065268Z"
        },
        "trusted": true,
        "id": "-5i4AzryPQFR",
        "outputId": "3a6eb536-abc6-437d-d310-3fa25ad3d2fe"
      },
      "execution_count": null,
      "outputs": [
        {
          "name": "stdout",
          "text": "CPU times: user 29min 41s, sys: 3.1 s, total: 29min 44s\nWall time: 30min 22s\n",
          "output_type": "stream"
        }
      ]
    },
    {
      "cell_type": "markdown",
      "source": [
        "## GPT2CNN"
      ],
      "metadata": {
        "id": "Q0bMehMKPQFR"
      }
    },
    {
      "cell_type": "code",
      "source": [
        "import regex as re\n",
        "from io import open\n",
        "\n",
        "@lru_cache()\n",
        "def bytes_to_unicode():\n",
        "    bs = list(range(ord(\"!\"), ord(\"~\")+1))+list(range(ord(\"¡\"), ord(\"¬\")+1))+list(range(ord(\"®\"), ord(\"ÿ\")+1))\n",
        "    cs = bs[:]\n",
        "    n = 0\n",
        "    for b in range(2**8):\n",
        "        if b not in bs:\n",
        "            bs.append(b)\n",
        "            cs.append(2**8+n)\n",
        "            n += 1\n",
        "    cs = [chr(n) for n in cs]\n",
        "    return dict(zip(bs, cs))\n",
        "\n",
        "def get_pairs(word):\n",
        "    pairs = set()\n",
        "    prev_char = word[0]\n",
        "    for char in word[1:]:\n",
        "        pairs.add((prev_char, char))\n",
        "        prev_char = char\n",
        "    return pairs\n",
        "\n",
        "class MonkeyPatchedGPT2Tokenizer(object):\n",
        "    @classmethod\n",
        "    def from_pretrained(cls, pretrained_model_name_or_path, cache_dir=None, *inputs, **kwargs):\n",
        "        vocab_file = os.path.join(pretrained_model_name_or_path, \"vocab.json\")\n",
        "        merges_file = os.path.join(pretrained_model_name_or_path, \"merges.txt\")\n",
        "\n",
        "        max_len = 1024\n",
        "        kwargs['max_len'] = min(kwargs.get('max_len', int(1e12)), max_len)\n",
        "        # Instantiate tokenizer.\n",
        "        special_tokens = kwargs.pop('special_tokens', [])\n",
        "        tokenizer = cls(vocab_file, merges_file, special_tokens=special_tokens, *inputs, **kwargs)\n",
        "        return tokenizer\n",
        "\n",
        "    def __init__(self, vocab_file, merges_file, errors='replace', special_tokens=None, max_len=None):\n",
        "        self.max_len = max_len if max_len is not None else int(1e12)\n",
        "        self.encoder = json.load(open(vocab_file))\n",
        "        self.decoder = {v:k for k,v in self.encoder.items()}\n",
        "        self.errors = errors # how to handle errors in decoding\n",
        "        self.byte_encoder = bytes_to_unicode()\n",
        "        self.byte_decoder = {v:k for k, v in self.byte_encoder.items()}\n",
        "        bpe_data = open(merges_file, encoding='utf-8').read().split('\\n')[1:-1]\n",
        "        bpe_merges = [tuple(merge.split()) for merge in bpe_data]\n",
        "        self.bpe_ranks = dict(zip(bpe_merges, range(len(bpe_merges))))\n",
        "        self.cache = {}\n",
        "\n",
        "        # Should haved added re.IGNORECASE so BPE merges can happen for capitalized  of contractions\n",
        "        self.pat = re.compile(r\"\"\"'s|'t|'re|'ve|'m|'ll|'d| ?\\p{L}+| ?\\p{N}+| ?[^\\s\\p{L}\\p{N}]+|\\s+(?!\\S)|\\s+\"\"\")\n",
        "\n",
        "        self.special_tokens = {}\n",
        "        self.special_tokens_decoder = {}\n",
        "        self.set_special_tokens(special_tokens)\n",
        "\n",
        "    def __len__(self):\n",
        "        return len(self.encoder) + len(self.special_tokens)\n",
        "\n",
        "    def set_special_tokens(self, special_tokens):\n",
        "        if not special_tokens:\n",
        "            self.special_tokens = {}\n",
        "            self.special_tokens_decoder = {}\n",
        "            return\n",
        "        self.special_tokens = dict((tok, len(self.encoder) + i) for i, tok in enumerate(special_tokens))\n",
        "        self.special_tokens_decoder = {v:k for k, v in self.special_tokens.items()}\n",
        "\n",
        "    def bpe(self, token):\n",
        "        if token in self.cache:\n",
        "            return self.cache[token]\n",
        "        word = tuple(token)\n",
        "        pairs = get_pairs(word)\n",
        "\n",
        "        if not pairs:\n",
        "            return token\n",
        "\n",
        "        while True:\n",
        "            bigram = min(pairs, key = lambda pair: self.bpe_ranks.get(pair, float('inf')))\n",
        "            if bigram not in self.bpe_ranks:\n",
        "                break\n",
        "            first, second = bigram\n",
        "            new_word = []\n",
        "            i = 0\n",
        "            while i < len(word):\n",
        "                try:\n",
        "                    j = word.index(first, i)\n",
        "                    new_word.extend(word[i:j])\n",
        "                    i = j\n",
        "                except:\n",
        "                    new_word.extend(word[i:])\n",
        "                    break\n",
        "\n",
        "                if word[i] == first and i < len(word)-1 and word[i+1] == second:\n",
        "                    new_word.append(first+second)\n",
        "                    i += 2\n",
        "                else:\n",
        "                    new_word.append(word[i])\n",
        "                    i += 1\n",
        "            new_word = tuple(new_word)\n",
        "            word = new_word\n",
        "            if len(word) == 1:\n",
        "                break\n",
        "            else:\n",
        "                pairs = get_pairs(word)\n",
        "        word = ' '.join(word)\n",
        "        self.cache[token] = word\n",
        "        return word\n",
        "\n",
        "    def tokenize(self, text):\n",
        "        bpe_tokens = []\n",
        "        for token in re.findall(self.pat, text):\n",
        "            token = ''.join(self.byte_encoder[b] for b in token.encode('utf-8'))\n",
        "            bpe_tokens.extend(bpe_token for bpe_token in self.bpe(token).split(' '))\n",
        "        return bpe_tokens\n",
        "\n",
        "    def convert_tokens_to_ids(self, tokens):\n",
        "        ids = []\n",
        "        if isinstance(tokens, str):\n",
        "            if tokens in self.special_tokens:\n",
        "                return self.special_tokens[tokens]\n",
        "            else:\n",
        "                return self.encoder.get(tokens, 0)\n",
        "        for token in tokens:\n",
        "            if token in self.special_tokens:\n",
        "                ids.append(self.special_tokens[token])\n",
        "            else:\n",
        "                ids.append(self.encoder.get(token, 0))\n",
        "        if len(ids) > self.max_len:\n",
        "            print(\n",
        "                \"Token indices sequence length is longer than the specified maximum \"\n",
        "                \" sequence length for this OpenAI GPT model ({} > {}). Running this\"\n",
        "                \" sequence through the model will result in indexing errors\".format(len(ids), self.max_len)\n",
        "            )\n",
        "        return ids\n",
        "\n",
        "    def convert_ids_to_tokens(self, ids, skip_special_tokens=False):\n",
        "        \"\"\"Converts a sequence of ids in BPE tokens using the vocab.\"\"\"\n",
        "        tokens = []\n",
        "        for i in ids:\n",
        "            if i in self.special_tokens_decoder:\n",
        "                if not skip_special_tokens:\n",
        "                    tokens.append(self.special_tokens_decoder[i])\n",
        "            else:\n",
        "                tokens.append(self.decoder[i])\n",
        "        return tokens\n",
        "\n",
        "    def encode(self, text):\n",
        "        return self.convert_tokens_to_ids(self.tokenize(text))\n",
        "\n",
        "    def decode(self, tokens, skip_special_tokens=False, clean_up_tokenization_spaces=True):\n",
        "        text = ''.join(self.convert_ids_to_tokens(tokens, skip_special_tokens=skip_special_tokens))\n",
        "        text = bytearray([self.byte_decoder[c] for c in text]).decode('utf-8', errors=self.errors)\n",
        "        if clean_up_tokenization_spaces:\n",
        "            text = text.replace('<unk>', '')\n",
        "            text = text.replace(' .', '.').replace(' ?', '?').replace(' !', '!').replace(' ,', ','\n",
        "                    ).replace(\" ' \", \"'\").replace(\" n't\", \"n't\").replace(\" 'm\", \"'m\").replace(\" do not\", \" don't\"\n",
        "                    ).replace(\" 's\", \"'s\").replace(\" 've\", \"'ve\").replace(\" 're\", \"'re\")\n",
        "        return text\n"
      ],
      "metadata": {
        "execution": {
          "iopub.status.busy": "2024-05-08T18:09:07.067941Z",
          "iopub.execute_input": "2024-05-08T18:09:07.068235Z",
          "iopub.status.idle": "2024-05-08T18:09:07.122676Z",
          "shell.execute_reply.started": "2024-05-08T18:09:07.068179Z",
          "shell.execute_reply": "2024-05-08T18:09:07.121784Z"
        },
        "trusted": true,
        "id": "9-rUj_ApPQFR"
      },
      "execution_count": null,
      "outputs": []
    },
    {
      "cell_type": "code",
      "source": [
        "from pytorch_pretrained_bert import GPT2Config, GPT2Model\n",
        "from pytorch_pretrained_bert.modeling_gpt2 import GPT2PreTrainedModel\n",
        "\n",
        "MAX_LEN = 250\n",
        "GPT2_TOKENIZER = MonkeyPatchedGPT2Tokenizer.from_pretrained(\"../input/transformer-tokenizers/gpt2/\")\n",
        "\n",
        "def convert_line_gpt2(text):\n",
        "    tokens_a = GPT2_TOKENIZER.tokenize(text)[:MAX_LEN]\n",
        "    one_token = GPT2_TOKENIZER.convert_tokens_to_ids(tokens_a)\n",
        "    one_token += [0] * (MAX_LEN - len(tokens_a))\n",
        "    return one_token\n",
        "\n",
        "\n",
        "def apply_gpt(model, loader):\n",
        "    preds = np.zeros((len(loader.dataset), 18), dtype=np.float32)\n",
        "    for i, X in enumerate(loader):\n",
        "        p = torch.sigmoid(model(X.cuda()))\n",
        "        preds[i * loader.batch_size : (i + 1) * loader.batch_size] = p.cpu().numpy()\n",
        "    return preds\n",
        "\n",
        "\n",
        "class GPT2CNN(GPT2PreTrainedModel):\n",
        "    def __init__(self, config, num_labels):\n",
        "        super().__init__(config)\n",
        "        self.transformer = GPT2Model(config)\n",
        "        self.cnn1 = nn.Conv1d(768, 256, kernel_size=3, padding=1)\n",
        "        self.cnn2 = nn.Conv1d(256, num_labels, kernel_size=3, padding=1)\n",
        "        self.apply(self.init_weights)\n",
        "\n",
        "    def forward(self, input_ids, position_ids=None, token_type_ids=None, lm_labels=None, past=None):\n",
        "        x, _ = self.transformer(input_ids, position_ids, token_type_ids, past)\n",
        "        x = x.permute(0, 2, 1)\n",
        "        x = F.relu(self.cnn1(x))\n",
        "        x = self.cnn2(x)\n",
        "        output, _ = torch.max(x, 2)\n",
        "        return output"
      ],
      "metadata": {
        "execution": {
          "iopub.status.busy": "2024-05-08T18:09:07.124387Z",
          "iopub.execute_input": "2024-05-08T18:09:07.124718Z",
          "iopub.status.idle": "2024-05-08T18:09:07.264202Z",
          "shell.execute_reply.started": "2024-05-08T18:09:07.124660Z",
          "shell.execute_reply": "2024-05-08T18:09:07.263507Z"
        },
        "trusted": true,
        "id": "gDfrTMLrPQFS"
      },
      "execution_count": null,
      "outputs": []
    },
    {
      "cell_type": "code",
      "source": [
        "%%time\n",
        "with multiprocessing.Pool(processes=2) as pool:\n",
        "    sequences = np.array(pool.map(convert_line_gpt2, test.comment_text))\n",
        "\n",
        "lengths = np.argmax(sequences == 0, axis=1)\n",
        "lengths[lengths == 0] = sequences.shape[1]\n",
        "\n",
        "sequences = torch.from_numpy(sequences)\n",
        "lengths = torch.from_numpy(lengths)\n",
        "\n",
        "test_dataset = data.TensorDataset(sequences, lengths)\n",
        "test_loader = data.DataLoader(test_dataset, batch_size=64, collate_fn=clip_to_max_len)"
      ],
      "metadata": {
        "execution": {
          "iopub.status.busy": "2024-05-08T18:09:07.265554Z",
          "iopub.execute_input": "2024-05-08T18:09:07.265844Z",
          "iopub.status.idle": "2024-05-08T18:09:39.477657Z",
          "shell.execute_reply.started": "2024-05-08T18:09:07.265766Z",
          "shell.execute_reply": "2024-05-08T18:09:39.476701Z"
        },
        "trusted": true,
        "id": "bYB5y35UPQFS",
        "outputId": "2c317615-2dc5-483a-dcf8-bfc633c2cdd1"
      },
      "execution_count": null,
      "outputs": [
        {
          "name": "stdout",
          "text": "CPU times: user 6.46 s, sys: 567 ms, total: 7.03 s\nWall time: 32.2 s\n",
          "output_type": "stream"
        }
      ]
    },
    {
      "cell_type": "code",
      "source": [
        "%%time\n",
        "\n",
        "GPT2CNN_MODELS = [\n",
        "    \"BERT_exp_GPT2_CNN_epoch_1\",\n",
        "    \"BERT_exp_GPT2_CNN_seed_epoch_1\",\n",
        "#     \"final-pipe6-gpt_wiki_1\",\n",
        "]\n",
        "\n",
        "for path in GPT2CNN_MODELS:\n",
        "    model = GPT2CNN(GPT2Config(), num_labels=18)\n",
        "    model.load_state_dict(\n",
        "        torch.load(f\"../input/toxic-models-zoo/{path}.bin\", map_location=\"cpu\")\n",
        "    )\n",
        "    for p in model.parameters():\n",
        "        p.requires_grad = False\n",
        "    model = model.eval()\n",
        "    model = model.cuda()\n",
        "    preds = apply_gpt(model, test_loader)\n",
        "    STORE[path] = sophisticated_magic(preds)"
      ],
      "metadata": {
        "execution": {
          "iopub.status.busy": "2024-05-08T18:42:48.036981Z",
          "iopub.execute_input": "2024-05-08T18:42:48.037323Z",
          "iopub.status.idle": "2024-05-08T19:10:06.616087Z",
          "shell.execute_reply.started": "2024-05-08T18:42:48.037273Z",
          "shell.execute_reply": "2024-05-08T19:10:06.615284Z"
        },
        "trusted": true,
        "id": "OiQe31M9PQFS",
        "outputId": "483ef318-9744-4982-dafd-77d4a4b222fe"
      },
      "execution_count": null,
      "outputs": [
        {
          "name": "stdout",
          "text": "CPU times: user 27min 18s, sys: 1.38 s, total: 27min 19s\nWall time: 27min 18s\n",
          "output_type": "stream"
        }
      ]
    },
    {
      "cell_type": "markdown",
      "source": [
        "# MERGING"
      ],
      "metadata": {
        "id": "NUepH13NPQFS"
      }
    },
    {
      "cell_type": "code",
      "source": [
        "df = pd.DataFrame(STORE)"
      ],
      "metadata": {
        "execution": {
          "iopub.status.busy": "2024-05-08T19:17:46.032720Z",
          "iopub.execute_input": "2024-05-08T19:17:46.033044Z",
          "iopub.status.idle": "2024-05-08T19:17:46.041384Z",
          "shell.execute_reply.started": "2024-05-08T19:17:46.032986Z",
          "shell.execute_reply": "2024-05-08T19:17:46.040566Z"
        },
        "trusted": true,
        "id": "BtXRbNerPQFS"
      },
      "execution_count": null,
      "outputs": []
    },
    {
      "cell_type": "code",
      "source": [
        "df.head()"
      ],
      "metadata": {
        "execution": {
          "iopub.status.busy": "2024-05-08T19:17:46.043215Z",
          "iopub.execute_input": "2024-05-08T19:17:46.043557Z",
          "iopub.status.idle": "2024-05-08T19:17:46.093398Z",
          "shell.execute_reply.started": "2024-05-08T19:17:46.043477Z",
          "shell.execute_reply": "2024-05-08T19:17:46.092666Z"
        },
        "trusted": true,
        "id": "j3FCsJspPQFT",
        "outputId": "d499050c-9e0c-4404-ea55-a50b4c49945a"
      },
      "execution_count": null,
      "outputs": [
        {
          "execution_count": 46,
          "output_type": "execute_result",
          "data": {
            "text/plain": "       lstm               ...                BERT_exp_GPT2_CNN_seed_epoch_1\n0  0.012383               ...                                      0.007743\n1  0.081519               ...                                      0.125449\n2  0.349261               ...                                      0.276162\n3  0.041394               ...                                      0.043571\n4  0.013125               ...                                      0.010253\n\n[5 rows x 23 columns]",
            "text/html": "<div>\n<style scoped>\n    .dataframe tbody tr th:only-of-type {\n        vertical-align: middle;\n    }\n\n    .dataframe tbody tr th {\n        vertical-align: top;\n    }\n\n    .dataframe thead th {\n        text-align: right;\n    }\n</style>\n<table border=\"1\" class=\"dataframe\">\n  <thead>\n    <tr style=\"text-align: right;\">\n      <th></th>\n      <th>lstm</th>\n      <th>BERT_exp_BERT_3_decay_5_epoch_1</th>\n      <th>final-pipe1-raw_1</th>\n      <th>final-pipe1-raw_2</th>\n      <th>final-pipe1-raw_3</th>\n      <th>final-pipe2-raw_1</th>\n      <th>final-pipe2-raw_2</th>\n      <th>final-pipe2-raw_3</th>\n      <th>final-pipe4-wiki_raw_1</th>\n      <th>final-pipe4-wiki_raw_2</th>\n      <th>final-pipe4-wiki_raw_3</th>\n      <th>final-pipe2-raw_4</th>\n      <th>BERT_exp_BERT_3_epoch_1</th>\n      <th>BERT_exp_BERT_3_cased_decay_epoch_1</th>\n      <th>final-pipe2-cased_1</th>\n      <th>final-pipe2-cased_2</th>\n      <th>final-pipe2-cased_3</th>\n      <th>final-pipe5-wiki_cased_1</th>\n      <th>final-pipe5-wiki_cased_2</th>\n      <th>final-pipe5-wiki_cased_3</th>\n      <th>final-pipe2-cased_10</th>\n      <th>BERT_exp_GPT2_CNN_epoch_1</th>\n      <th>BERT_exp_GPT2_CNN_seed_epoch_1</th>\n    </tr>\n  </thead>\n  <tbody>\n    <tr>\n      <th>0</th>\n      <td>0.012383</td>\n      <td>0.012476</td>\n      <td>0.011094</td>\n      <td>0.010217</td>\n      <td>0.010393</td>\n      <td>0.011287</td>\n      <td>0.010096</td>\n      <td>0.008282</td>\n      <td>0.009567</td>\n      <td>0.007860</td>\n      <td>0.010913</td>\n      <td>0.006531</td>\n      <td>0.010048</td>\n      <td>0.011942</td>\n      <td>0.005527</td>\n      <td>0.006158</td>\n      <td>0.006550</td>\n      <td>0.008221</td>\n      <td>0.006656</td>\n      <td>0.005368</td>\n      <td>0.008734</td>\n      <td>0.008891</td>\n      <td>0.007743</td>\n    </tr>\n    <tr>\n      <th>1</th>\n      <td>0.081519</td>\n      <td>0.088579</td>\n      <td>0.086486</td>\n      <td>0.074330</td>\n      <td>0.092897</td>\n      <td>0.082421</td>\n      <td>0.091878</td>\n      <td>0.077198</td>\n      <td>0.101560</td>\n      <td>0.083248</td>\n      <td>0.105542</td>\n      <td>0.087636</td>\n      <td>0.096387</td>\n      <td>0.077366</td>\n      <td>0.070397</td>\n      <td>0.084659</td>\n      <td>0.072126</td>\n      <td>0.089732</td>\n      <td>0.066629</td>\n      <td>0.067531</td>\n      <td>0.065960</td>\n      <td>0.106863</td>\n      <td>0.125449</td>\n    </tr>\n    <tr>\n      <th>2</th>\n      <td>0.349261</td>\n      <td>0.353265</td>\n      <td>0.320458</td>\n      <td>0.329532</td>\n      <td>0.321700</td>\n      <td>0.338747</td>\n      <td>0.355912</td>\n      <td>0.346069</td>\n      <td>0.264668</td>\n      <td>0.297421</td>\n      <td>0.334132</td>\n      <td>0.291985</td>\n      <td>0.322148</td>\n      <td>0.258779</td>\n      <td>0.233789</td>\n      <td>0.202783</td>\n      <td>0.245383</td>\n      <td>0.192864</td>\n      <td>0.327538</td>\n      <td>0.214886</td>\n      <td>0.217010</td>\n      <td>0.266835</td>\n      <td>0.276162</td>\n    </tr>\n    <tr>\n      <th>3</th>\n      <td>0.041394</td>\n      <td>0.052269</td>\n      <td>0.069734</td>\n      <td>0.053456</td>\n      <td>0.046692</td>\n      <td>0.055645</td>\n      <td>0.052034</td>\n      <td>0.042089</td>\n      <td>0.055890</td>\n      <td>0.055489</td>\n      <td>0.060314</td>\n      <td>0.042380</td>\n      <td>0.040038</td>\n      <td>0.051102</td>\n      <td>0.048257</td>\n      <td>0.056114</td>\n      <td>0.042320</td>\n      <td>0.047534</td>\n      <td>0.076478</td>\n      <td>0.062260</td>\n      <td>0.055633</td>\n      <td>0.057787</td>\n      <td>0.043571</td>\n    </tr>\n    <tr>\n      <th>4</th>\n      <td>0.013125</td>\n      <td>0.022547</td>\n      <td>0.026367</td>\n      <td>0.034699</td>\n      <td>0.037320</td>\n      <td>0.025701</td>\n      <td>0.024074</td>\n      <td>0.016147</td>\n      <td>0.031278</td>\n      <td>0.032585</td>\n      <td>0.024058</td>\n      <td>0.012134</td>\n      <td>0.014659</td>\n      <td>0.019971</td>\n      <td>0.018601</td>\n      <td>0.009935</td>\n      <td>0.019239</td>\n      <td>0.021898</td>\n      <td>0.011961</td>\n      <td>0.022589</td>\n      <td>0.025586</td>\n      <td>0.007670</td>\n      <td>0.010253</td>\n    </tr>\n  </tbody>\n</table>\n</div>"
          },
          "metadata": {}
        }
      ]
    },
    {
      "cell_type": "code",
      "source": [
        "df.corr()"
      ],
      "metadata": {
        "execution": {
          "iopub.status.busy": "2024-05-08T19:17:46.095081Z",
          "iopub.execute_input": "2024-05-08T19:17:46.095321Z",
          "iopub.status.idle": "2024-05-08T19:17:46.248606Z",
          "shell.execute_reply.started": "2024-05-08T19:17:46.095275Z",
          "shell.execute_reply": "2024-05-08T19:17:46.247868Z"
        },
        "trusted": true,
        "id": "ePdxA9R5PQFT",
        "outputId": "55c8c0f2-1931-40b9-dd99-152e36449362"
      },
      "execution_count": null,
      "outputs": [
        {
          "execution_count": 47,
          "output_type": "execute_result",
          "data": {
            "text/plain": "                                         lstm               ...                BERT_exp_GPT2_CNN_seed_epoch_1\nlstm                                 1.000000               ...                                      0.968998\nBERT_exp_BERT_3_decay_5_epoch_1      0.969450               ...                                      0.971376\nfinal-pipe1-raw_1                    0.969161               ...                                      0.971356\nfinal-pipe1-raw_2                    0.969274               ...                                      0.971007\nfinal-pipe1-raw_3                    0.970152               ...                                      0.971649\nfinal-pipe2-raw_1                    0.968926               ...                                      0.972744\nfinal-pipe2-raw_2                    0.968380               ...                                      0.972834\nfinal-pipe2-raw_3                    0.969601               ...                                      0.972583\nfinal-pipe4-wiki_raw_1               0.969940               ...                                      0.971218\nfinal-pipe4-wiki_raw_2               0.969398               ...                                      0.971064\nfinal-pipe4-wiki_raw_3               0.969386               ...                                      0.971272\nfinal-pipe2-raw_4                    0.968493               ...                                      0.972294\nBERT_exp_BERT_3_epoch_1              0.970309               ...                                      0.973041\nBERT_exp_BERT_3_cased_decay_epoch_1  0.968216               ...                                      0.974068\nfinal-pipe2-cased_1                  0.970352               ...                                      0.974962\nfinal-pipe2-cased_2                  0.969861               ...                                      0.974694\nfinal-pipe2-cased_3                  0.969917               ...                                      0.975049\nfinal-pipe5-wiki_cased_1             0.969650               ...                                      0.974493\nfinal-pipe5-wiki_cased_2             0.970042               ...                                      0.974562\nfinal-pipe5-wiki_cased_3             0.970168               ...                                      0.975155\nfinal-pipe2-cased_10                 0.969065               ...                                      0.974201\nBERT_exp_GPT2_CNN_epoch_1            0.969316               ...                                      0.992179\nBERT_exp_GPT2_CNN_seed_epoch_1       0.968998               ...                                      1.000000\n\n[23 rows x 23 columns]",
            "text/html": "<div>\n<style scoped>\n    .dataframe tbody tr th:only-of-type {\n        vertical-align: middle;\n    }\n\n    .dataframe tbody tr th {\n        vertical-align: top;\n    }\n\n    .dataframe thead th {\n        text-align: right;\n    }\n</style>\n<table border=\"1\" class=\"dataframe\">\n  <thead>\n    <tr style=\"text-align: right;\">\n      <th></th>\n      <th>lstm</th>\n      <th>BERT_exp_BERT_3_decay_5_epoch_1</th>\n      <th>final-pipe1-raw_1</th>\n      <th>final-pipe1-raw_2</th>\n      <th>final-pipe1-raw_3</th>\n      <th>final-pipe2-raw_1</th>\n      <th>final-pipe2-raw_2</th>\n      <th>final-pipe2-raw_3</th>\n      <th>final-pipe4-wiki_raw_1</th>\n      <th>final-pipe4-wiki_raw_2</th>\n      <th>final-pipe4-wiki_raw_3</th>\n      <th>final-pipe2-raw_4</th>\n      <th>BERT_exp_BERT_3_epoch_1</th>\n      <th>BERT_exp_BERT_3_cased_decay_epoch_1</th>\n      <th>final-pipe2-cased_1</th>\n      <th>final-pipe2-cased_2</th>\n      <th>final-pipe2-cased_3</th>\n      <th>final-pipe5-wiki_cased_1</th>\n      <th>final-pipe5-wiki_cased_2</th>\n      <th>final-pipe5-wiki_cased_3</th>\n      <th>final-pipe2-cased_10</th>\n      <th>BERT_exp_GPT2_CNN_epoch_1</th>\n      <th>BERT_exp_GPT2_CNN_seed_epoch_1</th>\n    </tr>\n  </thead>\n  <tbody>\n    <tr>\n      <th>lstm</th>\n      <td>1.000000</td>\n      <td>0.969450</td>\n      <td>0.969161</td>\n      <td>0.969274</td>\n      <td>0.970152</td>\n      <td>0.968926</td>\n      <td>0.968380</td>\n      <td>0.969601</td>\n      <td>0.969940</td>\n      <td>0.969398</td>\n      <td>0.969386</td>\n      <td>0.968493</td>\n      <td>0.970309</td>\n      <td>0.968216</td>\n      <td>0.970352</td>\n      <td>0.969861</td>\n      <td>0.969917</td>\n      <td>0.969650</td>\n      <td>0.970042</td>\n      <td>0.970168</td>\n      <td>0.969065</td>\n      <td>0.969316</td>\n      <td>0.968998</td>\n    </tr>\n    <tr>\n      <th>BERT_exp_BERT_3_decay_5_epoch_1</th>\n      <td>0.969450</td>\n      <td>1.000000</td>\n      <td>0.992682</td>\n      <td>0.992108</td>\n      <td>0.992735</td>\n      <td>0.989387</td>\n      <td>0.988778</td>\n      <td>0.989527</td>\n      <td>0.992526</td>\n      <td>0.991884</td>\n      <td>0.992203</td>\n      <td>0.988223</td>\n      <td>0.990316</td>\n      <td>0.979770</td>\n      <td>0.980338</td>\n      <td>0.980307</td>\n      <td>0.980777</td>\n      <td>0.980165</td>\n      <td>0.980100</td>\n      <td>0.980323</td>\n      <td>0.979112</td>\n      <td>0.972000</td>\n      <td>0.971376</td>\n    </tr>\n    <tr>\n      <th>final-pipe1-raw_1</th>\n      <td>0.969161</td>\n      <td>0.992682</td>\n      <td>1.000000</td>\n      <td>0.992598</td>\n      <td>0.993055</td>\n      <td>0.990246</td>\n      <td>0.989669</td>\n      <td>0.990071</td>\n      <td>0.992834</td>\n      <td>0.992176</td>\n      <td>0.992764</td>\n      <td>0.988826</td>\n      <td>0.990123</td>\n      <td>0.979553</td>\n      <td>0.980942</td>\n      <td>0.980939</td>\n      <td>0.981242</td>\n      <td>0.980711</td>\n      <td>0.980844</td>\n      <td>0.980862</td>\n      <td>0.979554</td>\n      <td>0.971961</td>\n      <td>0.971356</td>\n    </tr>\n    <tr>\n      <th>final-pipe1-raw_2</th>\n      <td>0.969274</td>\n      <td>0.992108</td>\n      <td>0.992598</td>\n      <td>1.000000</td>\n      <td>0.992739</td>\n      <td>0.989777</td>\n      <td>0.989214</td>\n      <td>0.989752</td>\n      <td>0.992355</td>\n      <td>0.992263</td>\n      <td>0.992273</td>\n      <td>0.988831</td>\n      <td>0.989554</td>\n      <td>0.979355</td>\n      <td>0.980863</td>\n      <td>0.980794</td>\n      <td>0.980872</td>\n      <td>0.980520</td>\n      <td>0.980667</td>\n      <td>0.980682</td>\n      <td>0.979486</td>\n      <td>0.971626</td>\n      <td>0.971007</td>\n    </tr>\n    <tr>\n      <th>final-pipe1-raw_3</th>\n      <td>0.970152</td>\n      <td>0.992735</td>\n      <td>0.993055</td>\n      <td>0.992739</td>\n      <td>1.000000</td>\n      <td>0.990079</td>\n      <td>0.989467</td>\n      <td>0.989986</td>\n      <td>0.992824</td>\n      <td>0.992432</td>\n      <td>0.993024</td>\n      <td>0.988771</td>\n      <td>0.990367</td>\n      <td>0.979750</td>\n      <td>0.981242</td>\n      <td>0.981281</td>\n      <td>0.981615</td>\n      <td>0.980880</td>\n      <td>0.981124</td>\n      <td>0.981194</td>\n      <td>0.979778</td>\n      <td>0.972392</td>\n      <td>0.971649</td>\n    </tr>\n    <tr>\n      <th>final-pipe2-raw_1</th>\n      <td>0.968926</td>\n      <td>0.989387</td>\n      <td>0.990246</td>\n      <td>0.989777</td>\n      <td>0.990079</td>\n      <td>1.000000</td>\n      <td>0.991962</td>\n      <td>0.992348</td>\n      <td>0.989888</td>\n      <td>0.989734</td>\n      <td>0.989932</td>\n      <td>0.991191</td>\n      <td>0.991937</td>\n      <td>0.980074</td>\n      <td>0.981564</td>\n      <td>0.981680</td>\n      <td>0.982056</td>\n      <td>0.981424</td>\n      <td>0.981555</td>\n      <td>0.981521</td>\n      <td>0.980367</td>\n      <td>0.973138</td>\n      <td>0.972744</td>\n    </tr>\n    <tr>\n      <th>final-pipe2-raw_2</th>\n      <td>0.968380</td>\n      <td>0.988778</td>\n      <td>0.989669</td>\n      <td>0.989214</td>\n      <td>0.989467</td>\n      <td>0.991962</td>\n      <td>1.000000</td>\n      <td>0.991956</td>\n      <td>0.989185</td>\n      <td>0.989017</td>\n      <td>0.989401</td>\n      <td>0.990907</td>\n      <td>0.991206</td>\n      <td>0.979951</td>\n      <td>0.981352</td>\n      <td>0.981650</td>\n      <td>0.981834</td>\n      <td>0.981231</td>\n      <td>0.981484</td>\n      <td>0.981417</td>\n      <td>0.980401</td>\n      <td>0.973306</td>\n      <td>0.972834</td>\n    </tr>\n    <tr>\n      <th>final-pipe2-raw_3</th>\n      <td>0.969601</td>\n      <td>0.989527</td>\n      <td>0.990071</td>\n      <td>0.989752</td>\n      <td>0.989986</td>\n      <td>0.992348</td>\n      <td>0.991956</td>\n      <td>1.000000</td>\n      <td>0.990031</td>\n      <td>0.989583</td>\n      <td>0.989864</td>\n      <td>0.991165</td>\n      <td>0.992054</td>\n      <td>0.979998</td>\n      <td>0.981372</td>\n      <td>0.981751</td>\n      <td>0.981880</td>\n      <td>0.981258</td>\n      <td>0.981398</td>\n      <td>0.981351</td>\n      <td>0.980286</td>\n      <td>0.972910</td>\n      <td>0.972583</td>\n    </tr>\n    <tr>\n      <th>final-pipe4-wiki_raw_1</th>\n      <td>0.969940</td>\n      <td>0.992526</td>\n      <td>0.992834</td>\n      <td>0.992355</td>\n      <td>0.992824</td>\n      <td>0.989888</td>\n      <td>0.989185</td>\n      <td>0.990031</td>\n      <td>1.000000</td>\n      <td>0.992605</td>\n      <td>0.992809</td>\n      <td>0.988827</td>\n      <td>0.990204</td>\n      <td>0.979535</td>\n      <td>0.980884</td>\n      <td>0.981019</td>\n      <td>0.981136</td>\n      <td>0.980869</td>\n      <td>0.980873</td>\n      <td>0.980959</td>\n      <td>0.979546</td>\n      <td>0.971726</td>\n      <td>0.971218</td>\n    </tr>\n    <tr>\n      <th>final-pipe4-wiki_raw_2</th>\n      <td>0.969398</td>\n      <td>0.991884</td>\n      <td>0.992176</td>\n      <td>0.992263</td>\n      <td>0.992432</td>\n      <td>0.989734</td>\n      <td>0.989017</td>\n      <td>0.989583</td>\n      <td>0.992605</td>\n      <td>1.000000</td>\n      <td>0.992488</td>\n      <td>0.988546</td>\n      <td>0.989591</td>\n      <td>0.979312</td>\n      <td>0.980743</td>\n      <td>0.980866</td>\n      <td>0.981156</td>\n      <td>0.980747</td>\n      <td>0.980809</td>\n      <td>0.980812</td>\n      <td>0.979355</td>\n      <td>0.971606</td>\n      <td>0.971064</td>\n    </tr>\n    <tr>\n      <th>final-pipe4-wiki_raw_3</th>\n      <td>0.969386</td>\n      <td>0.992203</td>\n      <td>0.992764</td>\n      <td>0.992273</td>\n      <td>0.993024</td>\n      <td>0.989932</td>\n      <td>0.989401</td>\n      <td>0.989864</td>\n      <td>0.992809</td>\n      <td>0.992488</td>\n      <td>1.000000</td>\n      <td>0.988705</td>\n      <td>0.989958</td>\n      <td>0.979413</td>\n      <td>0.980787</td>\n      <td>0.980949</td>\n      <td>0.981123</td>\n      <td>0.980843</td>\n      <td>0.980999</td>\n      <td>0.980983</td>\n      <td>0.979486</td>\n      <td>0.971940</td>\n      <td>0.971272</td>\n    </tr>\n    <tr>\n      <th>final-pipe2-raw_4</th>\n      <td>0.968493</td>\n      <td>0.988223</td>\n      <td>0.988826</td>\n      <td>0.988831</td>\n      <td>0.988771</td>\n      <td>0.991191</td>\n      <td>0.990907</td>\n      <td>0.991165</td>\n      <td>0.988827</td>\n      <td>0.988546</td>\n      <td>0.988705</td>\n      <td>1.000000</td>\n      <td>0.990196</td>\n      <td>0.979224</td>\n      <td>0.981060</td>\n      <td>0.981070</td>\n      <td>0.981295</td>\n      <td>0.980849</td>\n      <td>0.980696</td>\n      <td>0.981086</td>\n      <td>0.979762</td>\n      <td>0.972691</td>\n      <td>0.972294</td>\n    </tr>\n    <tr>\n      <th>BERT_exp_BERT_3_epoch_1</th>\n      <td>0.970309</td>\n      <td>0.990316</td>\n      <td>0.990123</td>\n      <td>0.989554</td>\n      <td>0.990367</td>\n      <td>0.991937</td>\n      <td>0.991206</td>\n      <td>0.992054</td>\n      <td>0.990204</td>\n      <td>0.989591</td>\n      <td>0.989958</td>\n      <td>0.990196</td>\n      <td>1.000000</td>\n      <td>0.980349</td>\n      <td>0.981261</td>\n      <td>0.981345</td>\n      <td>0.981597</td>\n      <td>0.980925</td>\n      <td>0.981013</td>\n      <td>0.981104</td>\n      <td>0.979696</td>\n      <td>0.973386</td>\n      <td>0.973041</td>\n    </tr>\n    <tr>\n      <th>BERT_exp_BERT_3_cased_decay_epoch_1</th>\n      <td>0.968216</td>\n      <td>0.979770</td>\n      <td>0.979553</td>\n      <td>0.979355</td>\n      <td>0.979750</td>\n      <td>0.980074</td>\n      <td>0.979951</td>\n      <td>0.979998</td>\n      <td>0.979535</td>\n      <td>0.979312</td>\n      <td>0.979413</td>\n      <td>0.979224</td>\n      <td>0.980349</td>\n      <td>1.000000</td>\n      <td>0.989616</td>\n      <td>0.989764</td>\n      <td>0.989412</td>\n      <td>0.989436</td>\n      <td>0.989064</td>\n      <td>0.989217</td>\n      <td>0.988064</td>\n      <td>0.974510</td>\n      <td>0.974068</td>\n    </tr>\n    <tr>\n      <th>final-pipe2-cased_1</th>\n      <td>0.970352</td>\n      <td>0.980338</td>\n      <td>0.980942</td>\n      <td>0.980863</td>\n      <td>0.981242</td>\n      <td>0.981564</td>\n      <td>0.981352</td>\n      <td>0.981372</td>\n      <td>0.980884</td>\n      <td>0.980743</td>\n      <td>0.980787</td>\n      <td>0.981060</td>\n      <td>0.981261</td>\n      <td>0.989616</td>\n      <td>1.000000</td>\n      <td>0.991217</td>\n      <td>0.991219</td>\n      <td>0.990826</td>\n      <td>0.990634</td>\n      <td>0.990668</td>\n      <td>0.989705</td>\n      <td>0.975361</td>\n      <td>0.974962</td>\n    </tr>\n    <tr>\n      <th>final-pipe2-cased_2</th>\n      <td>0.969861</td>\n      <td>0.980307</td>\n      <td>0.980939</td>\n      <td>0.980794</td>\n      <td>0.981281</td>\n      <td>0.981680</td>\n      <td>0.981650</td>\n      <td>0.981751</td>\n      <td>0.981019</td>\n      <td>0.980866</td>\n      <td>0.980949</td>\n      <td>0.981070</td>\n      <td>0.981345</td>\n      <td>0.989764</td>\n      <td>0.991217</td>\n      <td>1.000000</td>\n      <td>0.991142</td>\n      <td>0.990838</td>\n      <td>0.990762</td>\n      <td>0.990672</td>\n      <td>0.989528</td>\n      <td>0.975213</td>\n      <td>0.974694</td>\n    </tr>\n    <tr>\n      <th>final-pipe2-cased_3</th>\n      <td>0.969917</td>\n      <td>0.980777</td>\n      <td>0.981242</td>\n      <td>0.980872</td>\n      <td>0.981615</td>\n      <td>0.982056</td>\n      <td>0.981834</td>\n      <td>0.981880</td>\n      <td>0.981136</td>\n      <td>0.981156</td>\n      <td>0.981123</td>\n      <td>0.981295</td>\n      <td>0.981597</td>\n      <td>0.989412</td>\n      <td>0.991219</td>\n      <td>0.991142</td>\n      <td>1.000000</td>\n      <td>0.990788</td>\n      <td>0.990749</td>\n      <td>0.990714</td>\n      <td>0.989691</td>\n      <td>0.975480</td>\n      <td>0.975049</td>\n    </tr>\n    <tr>\n      <th>final-pipe5-wiki_cased_1</th>\n      <td>0.969650</td>\n      <td>0.980165</td>\n      <td>0.980711</td>\n      <td>0.980520</td>\n      <td>0.980880</td>\n      <td>0.981424</td>\n      <td>0.981231</td>\n      <td>0.981258</td>\n      <td>0.980869</td>\n      <td>0.980747</td>\n      <td>0.980843</td>\n      <td>0.980849</td>\n      <td>0.980925</td>\n      <td>0.989436</td>\n      <td>0.990826</td>\n      <td>0.990838</td>\n      <td>0.990788</td>\n      <td>1.000000</td>\n      <td>0.990571</td>\n      <td>0.990696</td>\n      <td>0.989435</td>\n      <td>0.974992</td>\n      <td>0.974493</td>\n    </tr>\n    <tr>\n      <th>final-pipe5-wiki_cased_2</th>\n      <td>0.970042</td>\n      <td>0.980100</td>\n      <td>0.980844</td>\n      <td>0.980667</td>\n      <td>0.981124</td>\n      <td>0.981555</td>\n      <td>0.981484</td>\n      <td>0.981398</td>\n      <td>0.980873</td>\n      <td>0.980809</td>\n      <td>0.980999</td>\n      <td>0.980696</td>\n      <td>0.981013</td>\n      <td>0.989064</td>\n      <td>0.990634</td>\n      <td>0.990762</td>\n      <td>0.990749</td>\n      <td>0.990571</td>\n      <td>1.000000</td>\n      <td>0.990744</td>\n      <td>0.989371</td>\n      <td>0.975038</td>\n      <td>0.974562</td>\n    </tr>\n    <tr>\n      <th>final-pipe5-wiki_cased_3</th>\n      <td>0.970168</td>\n      <td>0.980323</td>\n      <td>0.980862</td>\n      <td>0.980682</td>\n      <td>0.981194</td>\n      <td>0.981521</td>\n      <td>0.981417</td>\n      <td>0.981351</td>\n      <td>0.980959</td>\n      <td>0.980812</td>\n      <td>0.980983</td>\n      <td>0.981086</td>\n      <td>0.981104</td>\n      <td>0.989217</td>\n      <td>0.990668</td>\n      <td>0.990672</td>\n      <td>0.990714</td>\n      <td>0.990696</td>\n      <td>0.990744</td>\n      <td>1.000000</td>\n      <td>0.989394</td>\n      <td>0.975542</td>\n      <td>0.975155</td>\n    </tr>\n    <tr>\n      <th>final-pipe2-cased_10</th>\n      <td>0.969065</td>\n      <td>0.979112</td>\n      <td>0.979554</td>\n      <td>0.979486</td>\n      <td>0.979778</td>\n      <td>0.980367</td>\n      <td>0.980401</td>\n      <td>0.980286</td>\n      <td>0.979546</td>\n      <td>0.979355</td>\n      <td>0.979486</td>\n      <td>0.979762</td>\n      <td>0.979696</td>\n      <td>0.988064</td>\n      <td>0.989705</td>\n      <td>0.989528</td>\n      <td>0.989691</td>\n      <td>0.989435</td>\n      <td>0.989371</td>\n      <td>0.989394</td>\n      <td>1.000000</td>\n      <td>0.974444</td>\n      <td>0.974201</td>\n    </tr>\n    <tr>\n      <th>BERT_exp_GPT2_CNN_epoch_1</th>\n      <td>0.969316</td>\n      <td>0.972000</td>\n      <td>0.971961</td>\n      <td>0.971626</td>\n      <td>0.972392</td>\n      <td>0.973138</td>\n      <td>0.973306</td>\n      <td>0.972910</td>\n      <td>0.971726</td>\n      <td>0.971606</td>\n      <td>0.971940</td>\n      <td>0.972691</td>\n      <td>0.973386</td>\n      <td>0.974510</td>\n      <td>0.975361</td>\n      <td>0.975213</td>\n      <td>0.975480</td>\n      <td>0.974992</td>\n      <td>0.975038</td>\n      <td>0.975542</td>\n      <td>0.974444</td>\n      <td>1.000000</td>\n      <td>0.992179</td>\n    </tr>\n    <tr>\n      <th>BERT_exp_GPT2_CNN_seed_epoch_1</th>\n      <td>0.968998</td>\n      <td>0.971376</td>\n      <td>0.971356</td>\n      <td>0.971007</td>\n      <td>0.971649</td>\n      <td>0.972744</td>\n      <td>0.972834</td>\n      <td>0.972583</td>\n      <td>0.971218</td>\n      <td>0.971064</td>\n      <td>0.971272</td>\n      <td>0.972294</td>\n      <td>0.973041</td>\n      <td>0.974068</td>\n      <td>0.974962</td>\n      <td>0.974694</td>\n      <td>0.975049</td>\n      <td>0.974493</td>\n      <td>0.974562</td>\n      <td>0.975155</td>\n      <td>0.974201</td>\n      <td>0.992179</td>\n      <td>1.000000</td>\n    </tr>\n  </tbody>\n</table>\n</div>"
          },
          "metadata": {}
        }
      ]
    },
    {
      "cell_type": "code",
      "source": [
        "df.corr('kendall')"
      ],
      "metadata": {
        "execution": {
          "iopub.status.busy": "2024-05-08T19:17:46.250348Z",
          "iopub.execute_input": "2024-05-08T19:17:46.250580Z",
          "iopub.status.idle": "2024-05-08T19:17:52.781810Z",
          "shell.execute_reply.started": "2024-05-08T19:17:46.250539Z",
          "shell.execute_reply": "2024-05-08T19:17:52.781105Z"
        },
        "trusted": true,
        "id": "NUNqhLVlPQFT",
        "outputId": "4c9c6fc7-3c01-47dd-d634-b619328e4888"
      },
      "execution_count": null,
      "outputs": [
        {
          "execution_count": 48,
          "output_type": "execute_result",
          "data": {
            "text/plain": "                                         lstm               ...                BERT_exp_GPT2_CNN_seed_epoch_1\nlstm                                 1.000000               ...                                      0.812112\nBERT_exp_BERT_3_decay_5_epoch_1      0.806990               ...                                      0.827394\nfinal-pipe1-raw_1                    0.807711               ...                                      0.826654\nfinal-pipe1-raw_2                    0.808439               ...                                      0.826499\nfinal-pipe1-raw_3                    0.809190               ...                                      0.827519\nfinal-pipe2-raw_1                    0.806045               ...                                      0.826050\nfinal-pipe2-raw_2                    0.806474               ...                                      0.824052\nfinal-pipe2-raw_3                    0.806853               ...                                      0.825644\nfinal-pipe4-wiki_raw_1               0.806380               ...                                      0.824667\nfinal-pipe4-wiki_raw_2               0.805461               ...                                      0.823651\nfinal-pipe4-wiki_raw_3               0.804249               ...                                      0.823581\nfinal-pipe2-raw_4                    0.803756               ...                                      0.820790\nBERT_exp_BERT_3_epoch_1              0.809317               ...                                      0.828082\nBERT_exp_BERT_3_cased_decay_epoch_1  0.804277               ...                                      0.825208\nfinal-pipe2-cased_1                  0.809930               ...                                      0.827635\nfinal-pipe2-cased_2                  0.809733               ...                                      0.827459\nfinal-pipe2-cased_3                  0.808587               ...                                      0.827540\nfinal-pipe5-wiki_cased_1             0.805084               ...                                      0.824532\nfinal-pipe5-wiki_cased_2             0.806114               ...                                      0.824108\nfinal-pipe5-wiki_cased_3             0.805870               ...                                      0.824823\nfinal-pipe2-cased_10                 0.807446               ...                                      0.823535\nBERT_exp_GPT2_CNN_epoch_1            0.811452               ...                                      0.904372\nBERT_exp_GPT2_CNN_seed_epoch_1       0.812112               ...                                      1.000000\n\n[23 rows x 23 columns]",
            "text/html": "<div>\n<style scoped>\n    .dataframe tbody tr th:only-of-type {\n        vertical-align: middle;\n    }\n\n    .dataframe tbody tr th {\n        vertical-align: top;\n    }\n\n    .dataframe thead th {\n        text-align: right;\n    }\n</style>\n<table border=\"1\" class=\"dataframe\">\n  <thead>\n    <tr style=\"text-align: right;\">\n      <th></th>\n      <th>lstm</th>\n      <th>BERT_exp_BERT_3_decay_5_epoch_1</th>\n      <th>final-pipe1-raw_1</th>\n      <th>final-pipe1-raw_2</th>\n      <th>final-pipe1-raw_3</th>\n      <th>final-pipe2-raw_1</th>\n      <th>final-pipe2-raw_2</th>\n      <th>final-pipe2-raw_3</th>\n      <th>final-pipe4-wiki_raw_1</th>\n      <th>final-pipe4-wiki_raw_2</th>\n      <th>final-pipe4-wiki_raw_3</th>\n      <th>final-pipe2-raw_4</th>\n      <th>BERT_exp_BERT_3_epoch_1</th>\n      <th>BERT_exp_BERT_3_cased_decay_epoch_1</th>\n      <th>final-pipe2-cased_1</th>\n      <th>final-pipe2-cased_2</th>\n      <th>final-pipe2-cased_3</th>\n      <th>final-pipe5-wiki_cased_1</th>\n      <th>final-pipe5-wiki_cased_2</th>\n      <th>final-pipe5-wiki_cased_3</th>\n      <th>final-pipe2-cased_10</th>\n      <th>BERT_exp_GPT2_CNN_epoch_1</th>\n      <th>BERT_exp_GPT2_CNN_seed_epoch_1</th>\n    </tr>\n  </thead>\n  <tbody>\n    <tr>\n      <th>lstm</th>\n      <td>1.000000</td>\n      <td>0.806990</td>\n      <td>0.807711</td>\n      <td>0.808439</td>\n      <td>0.809190</td>\n      <td>0.806045</td>\n      <td>0.806474</td>\n      <td>0.806853</td>\n      <td>0.806380</td>\n      <td>0.805461</td>\n      <td>0.804249</td>\n      <td>0.803756</td>\n      <td>0.809317</td>\n      <td>0.804277</td>\n      <td>0.809930</td>\n      <td>0.809733</td>\n      <td>0.808587</td>\n      <td>0.805084</td>\n      <td>0.806114</td>\n      <td>0.805870</td>\n      <td>0.807446</td>\n      <td>0.811452</td>\n      <td>0.812112</td>\n    </tr>\n    <tr>\n      <th>BERT_exp_BERT_3_decay_5_epoch_1</th>\n      <td>0.806990</td>\n      <td>1.000000</td>\n      <td>0.908482</td>\n      <td>0.904823</td>\n      <td>0.908004</td>\n      <td>0.888403</td>\n      <td>0.885999</td>\n      <td>0.889489</td>\n      <td>0.904472</td>\n      <td>0.899412</td>\n      <td>0.901883</td>\n      <td>0.882280</td>\n      <td>0.891546</td>\n      <td>0.849622</td>\n      <td>0.852054</td>\n      <td>0.852460</td>\n      <td>0.851922</td>\n      <td>0.850317</td>\n      <td>0.849869</td>\n      <td>0.849669</td>\n      <td>0.847389</td>\n      <td>0.826767</td>\n      <td>0.827394</td>\n    </tr>\n    <tr>\n      <th>final-pipe1-raw_1</th>\n      <td>0.807711</td>\n      <td>0.908482</td>\n      <td>1.000000</td>\n      <td>0.908140</td>\n      <td>0.911034</td>\n      <td>0.891609</td>\n      <td>0.889217</td>\n      <td>0.891807</td>\n      <td>0.906177</td>\n      <td>0.902215</td>\n      <td>0.904847</td>\n      <td>0.885303</td>\n      <td>0.889776</td>\n      <td>0.848055</td>\n      <td>0.853712</td>\n      <td>0.854265</td>\n      <td>0.853838</td>\n      <td>0.852047</td>\n      <td>0.851872</td>\n      <td>0.851820</td>\n      <td>0.849091</td>\n      <td>0.826036</td>\n      <td>0.826654</td>\n    </tr>\n    <tr>\n      <th>final-pipe1-raw_2</th>\n      <td>0.808439</td>\n      <td>0.904823</td>\n      <td>0.908140</td>\n      <td>1.000000</td>\n      <td>0.908773</td>\n      <td>0.890085</td>\n      <td>0.887989</td>\n      <td>0.890543</td>\n      <td>0.903631</td>\n      <td>0.901207</td>\n      <td>0.901687</td>\n      <td>0.885158</td>\n      <td>0.886554</td>\n      <td>0.848332</td>\n      <td>0.853072</td>\n      <td>0.854345</td>\n      <td>0.853852</td>\n      <td>0.851605</td>\n      <td>0.851446</td>\n      <td>0.850658</td>\n      <td>0.849410</td>\n      <td>0.825881</td>\n      <td>0.826499</td>\n    </tr>\n    <tr>\n      <th>final-pipe1-raw_3</th>\n      <td>0.809190</td>\n      <td>0.908004</td>\n      <td>0.911034</td>\n      <td>0.908773</td>\n      <td>1.000000</td>\n      <td>0.892997</td>\n      <td>0.890282</td>\n      <td>0.892992</td>\n      <td>0.906595</td>\n      <td>0.904317</td>\n      <td>0.906661</td>\n      <td>0.886347</td>\n      <td>0.890928</td>\n      <td>0.849205</td>\n      <td>0.855006</td>\n      <td>0.856488</td>\n      <td>0.855840</td>\n      <td>0.853060</td>\n      <td>0.853480</td>\n      <td>0.852893</td>\n      <td>0.851066</td>\n      <td>0.826834</td>\n      <td>0.827519</td>\n    </tr>\n    <tr>\n      <th>final-pipe2-raw_1</th>\n      <td>0.806045</td>\n      <td>0.888403</td>\n      <td>0.891609</td>\n      <td>0.890085</td>\n      <td>0.892997</td>\n      <td>1.000000</td>\n      <td>0.900177</td>\n      <td>0.904032</td>\n      <td>0.888330</td>\n      <td>0.885870</td>\n      <td>0.887361</td>\n      <td>0.894502</td>\n      <td>0.900654</td>\n      <td>0.849502</td>\n      <td>0.855018</td>\n      <td>0.855904</td>\n      <td>0.856051</td>\n      <td>0.853149</td>\n      <td>0.852943</td>\n      <td>0.852299</td>\n      <td>0.850682</td>\n      <td>0.825413</td>\n      <td>0.826050</td>\n    </tr>\n    <tr>\n      <th>final-pipe2-raw_2</th>\n      <td>0.806474</td>\n      <td>0.885999</td>\n      <td>0.889217</td>\n      <td>0.887989</td>\n      <td>0.890282</td>\n      <td>0.900177</td>\n      <td>1.000000</td>\n      <td>0.901281</td>\n      <td>0.885890</td>\n      <td>0.884451</td>\n      <td>0.884942</td>\n      <td>0.892862</td>\n      <td>0.894597</td>\n      <td>0.847476</td>\n      <td>0.853384</td>\n      <td>0.854269</td>\n      <td>0.853989</td>\n      <td>0.851121</td>\n      <td>0.851525</td>\n      <td>0.850733</td>\n      <td>0.850135</td>\n      <td>0.823445</td>\n      <td>0.824052</td>\n    </tr>\n    <tr>\n      <th>final-pipe2-raw_3</th>\n      <td>0.806853</td>\n      <td>0.889489</td>\n      <td>0.891807</td>\n      <td>0.890543</td>\n      <td>0.892992</td>\n      <td>0.904032</td>\n      <td>0.901281</td>\n      <td>1.000000</td>\n      <td>0.888387</td>\n      <td>0.886277</td>\n      <td>0.886662</td>\n      <td>0.895967</td>\n      <td>0.899611</td>\n      <td>0.848929</td>\n      <td>0.854534</td>\n      <td>0.855426</td>\n      <td>0.855193</td>\n      <td>0.852296</td>\n      <td>0.851789</td>\n      <td>0.851812</td>\n      <td>0.850066</td>\n      <td>0.824968</td>\n      <td>0.825644</td>\n    </tr>\n    <tr>\n      <th>final-pipe4-wiki_raw_1</th>\n      <td>0.806380</td>\n      <td>0.904472</td>\n      <td>0.906177</td>\n      <td>0.903631</td>\n      <td>0.906595</td>\n      <td>0.888330</td>\n      <td>0.885890</td>\n      <td>0.888387</td>\n      <td>1.000000</td>\n      <td>0.906275</td>\n      <td>0.906939</td>\n      <td>0.882639</td>\n      <td>0.886186</td>\n      <td>0.845827</td>\n      <td>0.852044</td>\n      <td>0.852510</td>\n      <td>0.851869</td>\n      <td>0.853302</td>\n      <td>0.853201</td>\n      <td>0.853190</td>\n      <td>0.847535</td>\n      <td>0.823747</td>\n      <td>0.824667</td>\n    </tr>\n    <tr>\n      <th>final-pipe4-wiki_raw_2</th>\n      <td>0.805461</td>\n      <td>0.899412</td>\n      <td>0.902215</td>\n      <td>0.901207</td>\n      <td>0.904317</td>\n      <td>0.885870</td>\n      <td>0.884451</td>\n      <td>0.886277</td>\n      <td>0.906275</td>\n      <td>1.000000</td>\n      <td>0.905052</td>\n      <td>0.881541</td>\n      <td>0.883277</td>\n      <td>0.844880</td>\n      <td>0.849982</td>\n      <td>0.851217</td>\n      <td>0.850705</td>\n      <td>0.852515</td>\n      <td>0.853228</td>\n      <td>0.852754</td>\n      <td>0.846233</td>\n      <td>0.822389</td>\n      <td>0.823651</td>\n    </tr>\n    <tr>\n      <th>final-pipe4-wiki_raw_3</th>\n      <td>0.804249</td>\n      <td>0.901883</td>\n      <td>0.904847</td>\n      <td>0.901687</td>\n      <td>0.906661</td>\n      <td>0.887361</td>\n      <td>0.884942</td>\n      <td>0.886662</td>\n      <td>0.906939</td>\n      <td>0.905052</td>\n      <td>1.000000</td>\n      <td>0.881648</td>\n      <td>0.885157</td>\n      <td>0.846071</td>\n      <td>0.850974</td>\n      <td>0.852100</td>\n      <td>0.852074</td>\n      <td>0.852695</td>\n      <td>0.853633</td>\n      <td>0.853050</td>\n      <td>0.846423</td>\n      <td>0.822943</td>\n      <td>0.823581</td>\n    </tr>\n    <tr>\n      <th>final-pipe2-raw_4</th>\n      <td>0.803756</td>\n      <td>0.882280</td>\n      <td>0.885303</td>\n      <td>0.885158</td>\n      <td>0.886347</td>\n      <td>0.894502</td>\n      <td>0.892862</td>\n      <td>0.895967</td>\n      <td>0.882639</td>\n      <td>0.881541</td>\n      <td>0.881648</td>\n      <td>1.000000</td>\n      <td>0.888336</td>\n      <td>0.845483</td>\n      <td>0.851243</td>\n      <td>0.852220</td>\n      <td>0.851396</td>\n      <td>0.849220</td>\n      <td>0.849588</td>\n      <td>0.848541</td>\n      <td>0.847892</td>\n      <td>0.820586</td>\n      <td>0.820790</td>\n    </tr>\n    <tr>\n      <th>BERT_exp_BERT_3_epoch_1</th>\n      <td>0.809317</td>\n      <td>0.891546</td>\n      <td>0.889776</td>\n      <td>0.886554</td>\n      <td>0.890928</td>\n      <td>0.900654</td>\n      <td>0.894597</td>\n      <td>0.899611</td>\n      <td>0.886186</td>\n      <td>0.883277</td>\n      <td>0.885157</td>\n      <td>0.888336</td>\n      <td>1.000000</td>\n      <td>0.850391</td>\n      <td>0.852951</td>\n      <td>0.853902</td>\n      <td>0.852883</td>\n      <td>0.850538</td>\n      <td>0.850422</td>\n      <td>0.849595</td>\n      <td>0.847364</td>\n      <td>0.828084</td>\n      <td>0.828082</td>\n    </tr>\n    <tr>\n      <th>BERT_exp_BERT_3_cased_decay_epoch_1</th>\n      <td>0.804277</td>\n      <td>0.849622</td>\n      <td>0.848055</td>\n      <td>0.848332</td>\n      <td>0.849205</td>\n      <td>0.849502</td>\n      <td>0.847476</td>\n      <td>0.848929</td>\n      <td>0.845827</td>\n      <td>0.844880</td>\n      <td>0.846071</td>\n      <td>0.845483</td>\n      <td>0.850391</td>\n      <td>1.000000</td>\n      <td>0.887492</td>\n      <td>0.888973</td>\n      <td>0.887802</td>\n      <td>0.884318</td>\n      <td>0.882874</td>\n      <td>0.883612</td>\n      <td>0.879419</td>\n      <td>0.825163</td>\n      <td>0.825208</td>\n    </tr>\n    <tr>\n      <th>final-pipe2-cased_1</th>\n      <td>0.809930</td>\n      <td>0.852054</td>\n      <td>0.853712</td>\n      <td>0.853072</td>\n      <td>0.855006</td>\n      <td>0.855018</td>\n      <td>0.853384</td>\n      <td>0.854534</td>\n      <td>0.852044</td>\n      <td>0.849982</td>\n      <td>0.850974</td>\n      <td>0.851243</td>\n      <td>0.852951</td>\n      <td>0.887492</td>\n      <td>1.000000</td>\n      <td>0.897313</td>\n      <td>0.896426</td>\n      <td>0.891944</td>\n      <td>0.890019</td>\n      <td>0.891027</td>\n      <td>0.888398</td>\n      <td>0.827446</td>\n      <td>0.827635</td>\n    </tr>\n    <tr>\n      <th>final-pipe2-cased_2</th>\n      <td>0.809733</td>\n      <td>0.852460</td>\n      <td>0.854265</td>\n      <td>0.854345</td>\n      <td>0.856488</td>\n      <td>0.855904</td>\n      <td>0.854269</td>\n      <td>0.855426</td>\n      <td>0.852510</td>\n      <td>0.851217</td>\n      <td>0.852100</td>\n      <td>0.852220</td>\n      <td>0.853902</td>\n      <td>0.888973</td>\n      <td>0.897313</td>\n      <td>1.000000</td>\n      <td>0.897601</td>\n      <td>0.891965</td>\n      <td>0.891721</td>\n      <td>0.890977</td>\n      <td>0.887322</td>\n      <td>0.827386</td>\n      <td>0.827459</td>\n    </tr>\n    <tr>\n      <th>final-pipe2-cased_3</th>\n      <td>0.808587</td>\n      <td>0.851922</td>\n      <td>0.853838</td>\n      <td>0.853852</td>\n      <td>0.855840</td>\n      <td>0.856051</td>\n      <td>0.853989</td>\n      <td>0.855193</td>\n      <td>0.851869</td>\n      <td>0.850705</td>\n      <td>0.852074</td>\n      <td>0.851396</td>\n      <td>0.852883</td>\n      <td>0.887802</td>\n      <td>0.896426</td>\n      <td>0.897601</td>\n      <td>1.000000</td>\n      <td>0.892615</td>\n      <td>0.891410</td>\n      <td>0.890565</td>\n      <td>0.887898</td>\n      <td>0.827181</td>\n      <td>0.827540</td>\n    </tr>\n    <tr>\n      <th>final-pipe5-wiki_cased_1</th>\n      <td>0.805084</td>\n      <td>0.850317</td>\n      <td>0.852047</td>\n      <td>0.851605</td>\n      <td>0.853060</td>\n      <td>0.853149</td>\n      <td>0.851121</td>\n      <td>0.852296</td>\n      <td>0.853302</td>\n      <td>0.852515</td>\n      <td>0.852695</td>\n      <td>0.849220</td>\n      <td>0.850538</td>\n      <td>0.884318</td>\n      <td>0.891944</td>\n      <td>0.891965</td>\n      <td>0.892615</td>\n      <td>1.000000</td>\n      <td>0.892646</td>\n      <td>0.891905</td>\n      <td>0.884665</td>\n      <td>0.824941</td>\n      <td>0.824532</td>\n    </tr>\n    <tr>\n      <th>final-pipe5-wiki_cased_2</th>\n      <td>0.806114</td>\n      <td>0.849869</td>\n      <td>0.851872</td>\n      <td>0.851446</td>\n      <td>0.853480</td>\n      <td>0.852943</td>\n      <td>0.851525</td>\n      <td>0.851789</td>\n      <td>0.853201</td>\n      <td>0.853228</td>\n      <td>0.853633</td>\n      <td>0.849588</td>\n      <td>0.850422</td>\n      <td>0.882874</td>\n      <td>0.890019</td>\n      <td>0.891721</td>\n      <td>0.891410</td>\n      <td>0.892646</td>\n      <td>1.000000</td>\n      <td>0.892934</td>\n      <td>0.883555</td>\n      <td>0.824119</td>\n      <td>0.824108</td>\n    </tr>\n    <tr>\n      <th>final-pipe5-wiki_cased_3</th>\n      <td>0.805870</td>\n      <td>0.849669</td>\n      <td>0.851820</td>\n      <td>0.850658</td>\n      <td>0.852893</td>\n      <td>0.852299</td>\n      <td>0.850733</td>\n      <td>0.851812</td>\n      <td>0.853190</td>\n      <td>0.852754</td>\n      <td>0.853050</td>\n      <td>0.848541</td>\n      <td>0.849595</td>\n      <td>0.883612</td>\n      <td>0.891027</td>\n      <td>0.890977</td>\n      <td>0.890565</td>\n      <td>0.891905</td>\n      <td>0.892934</td>\n      <td>1.000000</td>\n      <td>0.883026</td>\n      <td>0.824389</td>\n      <td>0.824823</td>\n    </tr>\n    <tr>\n      <th>final-pipe2-cased_10</th>\n      <td>0.807446</td>\n      <td>0.847389</td>\n      <td>0.849091</td>\n      <td>0.849410</td>\n      <td>0.851066</td>\n      <td>0.850682</td>\n      <td>0.850135</td>\n      <td>0.850066</td>\n      <td>0.847535</td>\n      <td>0.846233</td>\n      <td>0.846423</td>\n      <td>0.847892</td>\n      <td>0.847364</td>\n      <td>0.879419</td>\n      <td>0.888398</td>\n      <td>0.887322</td>\n      <td>0.887898</td>\n      <td>0.884665</td>\n      <td>0.883555</td>\n      <td>0.883026</td>\n      <td>1.000000</td>\n      <td>0.823407</td>\n      <td>0.823535</td>\n    </tr>\n    <tr>\n      <th>BERT_exp_GPT2_CNN_epoch_1</th>\n      <td>0.811452</td>\n      <td>0.826767</td>\n      <td>0.826036</td>\n      <td>0.825881</td>\n      <td>0.826834</td>\n      <td>0.825413</td>\n      <td>0.823445</td>\n      <td>0.824968</td>\n      <td>0.823747</td>\n      <td>0.822389</td>\n      <td>0.822943</td>\n      <td>0.820586</td>\n      <td>0.828084</td>\n      <td>0.825163</td>\n      <td>0.827446</td>\n      <td>0.827386</td>\n      <td>0.827181</td>\n      <td>0.824941</td>\n      <td>0.824119</td>\n      <td>0.824389</td>\n      <td>0.823407</td>\n      <td>1.000000</td>\n      <td>0.904372</td>\n    </tr>\n    <tr>\n      <th>BERT_exp_GPT2_CNN_seed_epoch_1</th>\n      <td>0.812112</td>\n      <td>0.827394</td>\n      <td>0.826654</td>\n      <td>0.826499</td>\n      <td>0.827519</td>\n      <td>0.826050</td>\n      <td>0.824052</td>\n      <td>0.825644</td>\n      <td>0.824667</td>\n      <td>0.823651</td>\n      <td>0.823581</td>\n      <td>0.820790</td>\n      <td>0.828082</td>\n      <td>0.825208</td>\n      <td>0.827635</td>\n      <td>0.827459</td>\n      <td>0.827540</td>\n      <td>0.824532</td>\n      <td>0.824108</td>\n      <td>0.824823</td>\n      <td>0.823535</td>\n      <td>0.904372</td>\n      <td>1.000000</td>\n    </tr>\n  </tbody>\n</table>\n</div>"
          },
          "metadata": {}
        }
      ]
    },
    {
      "cell_type": "code",
      "source": [
        "final_preds = (\n",
        "    ### LSTM\n",
        "    4.5 * df[\"lstm\"] +\n",
        "\n",
        "    ### BERT\n",
        "    # best 90%-model\n",
        "    df[\"BERT_exp_BERT_3_decay_5_epoch_1\"] +\n",
        "    df[\"BERT_exp_BERT_3_cased_decay_epoch_1\"] +\n",
        "\n",
        "    # GPT-CNN\n",
        "    2 * df[\"BERT_exp_GPT2_CNN_epoch_1\"] +\n",
        "    2 * df[\"BERT_exp_GPT2_CNN_seed_epoch_1\"] +\n",
        "#     2 * df[\"final-pipe6-gpt_wiki_1\"] +\n",
        "\n",
        "    # fint-tune\n",
        "    df[\"final-pipe1-raw_1\"] +\n",
        "    df[\"final-pipe1-raw_2\"] +\n",
        "    df[\"final-pipe1-raw_3\"] +\n",
        "    # base-uncased\n",
        "    df[\"final-pipe2-raw_1\"] +\n",
        "    df[\"final-pipe2-raw_2\"] +\n",
        "    df[\"final-pipe2-raw_3\"] +\n",
        "    # cased (note: 4,5,6 don't really improve results)\n",
        "    df[\"final-pipe2-cased_1\"] +\n",
        "    df[\"final-pipe2-cased_2\"] +\n",
        "    df[\"final-pipe2-cased_3\"] +\n",
        "#     df[\"final-pipe2-cased_4\"] +\n",
        "#     df[\"final-pipe2-cased_5\"] +\n",
        "#     df[\"final-pipe2-cased_6\"] +\n",
        "    # Wiki-ft\n",
        "    df[\"final-pipe4-wiki_raw_1\"] +\n",
        "    df[\"final-pipe4-wiki_raw_2\"] +\n",
        "    df[\"final-pipe4-wiki_raw_3\"] +\n",
        "    # Wiki-cased\n",
        "    df[\"final-pipe5-wiki_cased_1\"] +\n",
        "    df[\"final-pipe5-wiki_cased_2\"] +\n",
        "    df[\"final-pipe5-wiki_cased_3\"] +\n",
        "\n",
        "    df[\"final-pipe2-raw_4\"] +\n",
        "    df[\"final-pipe2-cased_10\"] +\n",
        "    df[\"BERT_exp_BERT_3_epoch_1\"]\n",
        ")"
      ],
      "metadata": {
        "execution": {
          "iopub.status.busy": "2024-05-08T19:17:52.783188Z",
          "iopub.execute_input": "2024-05-08T19:17:52.783414Z",
          "iopub.status.idle": "2024-05-08T19:17:52.803653Z",
          "shell.execute_reply.started": "2024-05-08T19:17:52.783376Z",
          "shell.execute_reply": "2024-05-08T19:17:52.803044Z"
        },
        "trusted": true,
        "id": "jTbhrCXdPQFZ"
      },
      "execution_count": null,
      "outputs": []
    },
    {
      "cell_type": "code",
      "source": [
        "submission = pd.DataFrame({\n",
        "    'id': test['id'],\n",
        "    'prediction': final_preds,\n",
        "})"
      ],
      "metadata": {
        "_cell_guid": "79c7e3d0-c299-4dcb-8224-4455121ee9b0",
        "_uuid": "d629ff2d2480ee46fbb7e2d37f6b5fab8052498a",
        "execution": {
          "iopub.status.busy": "2024-05-08T22:56:54.261169Z",
          "iopub.execute_input": "2024-05-08T22:56:54.261542Z",
          "iopub.status.idle": "2024-05-08T22:56:54.267703Z",
          "shell.execute_reply.started": "2024-05-08T22:56:54.261479Z",
          "shell.execute_reply": "2024-05-08T22:56:54.266591Z"
        },
        "trusted": true,
        "id": "rootC34wPQFZ"
      },
      "execution_count": null,
      "outputs": []
    },
    {
      "cell_type": "code",
      "source": [
        "submission.to_csv('submission.csv', index=False)"
      ],
      "metadata": {
        "execution": {
          "iopub.status.busy": "2024-05-08T22:56:55.880259Z",
          "iopub.execute_input": "2024-05-08T22:56:55.880585Z",
          "iopub.status.idle": "2024-05-08T22:56:56.402992Z",
          "shell.execute_reply.started": "2024-05-08T22:56:55.880530Z",
          "shell.execute_reply": "2024-05-08T22:56:56.401920Z"
        },
        "trusted": true,
        "id": "osbAhPUcPQFZ"
      },
      "execution_count": null,
      "outputs": []
    },
    {
      "cell_type": "code",
      "source": [
        "submission.head()"
      ],
      "metadata": {
        "execution": {
          "iopub.status.busy": "2024-05-08T22:56:57.880656Z",
          "iopub.execute_input": "2024-05-08T22:56:57.881012Z",
          "iopub.status.idle": "2024-05-08T22:56:57.893861Z",
          "shell.execute_reply.started": "2024-05-08T22:56:57.880946Z",
          "shell.execute_reply": "2024-05-08T22:56:57.892921Z"
        },
        "trusted": true,
        "id": "VlgUaIH9PQFZ",
        "outputId": "a20b57f2-eba3-4797-f405-fa81ff4d4550"
      },
      "execution_count": null,
      "outputs": [
        {
          "execution_count": 213,
          "output_type": "execute_result",
          "data": {
            "text/plain": "        id  prediction\n0  7097320    0.266914\n1  7097321    2.494023\n2  7097322    8.426736\n3  7097323    1.454720\n4  7097324    0.546256",
            "text/html": "<div>\n<style scoped>\n    .dataframe tbody tr th:only-of-type {\n        vertical-align: middle;\n    }\n\n    .dataframe tbody tr th {\n        vertical-align: top;\n    }\n\n    .dataframe thead th {\n        text-align: right;\n    }\n</style>\n<table border=\"1\" class=\"dataframe\">\n  <thead>\n    <tr style=\"text-align: right;\">\n      <th></th>\n      <th>id</th>\n      <th>prediction</th>\n    </tr>\n  </thead>\n  <tbody>\n    <tr>\n      <th>0</th>\n      <td>7097320</td>\n      <td>0.266914</td>\n    </tr>\n    <tr>\n      <th>1</th>\n      <td>7097321</td>\n      <td>2.494023</td>\n    </tr>\n    <tr>\n      <th>2</th>\n      <td>7097322</td>\n      <td>8.426736</td>\n    </tr>\n    <tr>\n      <th>3</th>\n      <td>7097323</td>\n      <td>1.454720</td>\n    </tr>\n    <tr>\n      <th>4</th>\n      <td>7097324</td>\n      <td>0.546256</td>\n    </tr>\n  </tbody>\n</table>\n</div>"
          },
          "metadata": {}
        }
      ]
    },
    {
      "cell_type": "code",
      "source": [
        "print(torch.cuda.max_memory_allocated(0) / 1024 / 1024)\n",
        "print(torch.cuda.max_memory_cached(0) / 1024 / 1024)"
      ],
      "metadata": {
        "execution": {
          "iopub.status.busy": "2024-05-08T22:56:59.704622Z",
          "iopub.execute_input": "2024-05-08T22:56:59.704938Z",
          "iopub.status.idle": "2024-05-08T22:56:59.710337Z",
          "shell.execute_reply.started": "2024-05-08T22:56:59.704878Z",
          "shell.execute_reply": "2024-05-08T22:56:59.709376Z"
        },
        "trusted": true,
        "id": "xjW_OSNjPQFa",
        "outputId": "c376cf68-37ef-42ef-812b-08f9d1d3a654"
      },
      "execution_count": null,
      "outputs": [
        {
          "name": "stdout",
          "text": "2683.1455078125\n6458.0\n",
          "output_type": "stream"
        }
      ]
    },
    {
      "cell_type": "markdown",
      "source": [
        "# **RDS PROJECT START**"
      ],
      "metadata": {
        "id": "KxE7qkexPQFa"
      }
    },
    {
      "cell_type": "markdown",
      "source": [
        "# **Setup data to be able to audit ADS**"
      ],
      "metadata": {
        "id": "bbH5kop3PQFa"
      }
    },
    {
      "cell_type": "code",
      "source": [
        "submission['normalized_prediction'] = 1 / (1 + np.exp(-submission['prediction']))"
      ],
      "metadata": {
        "execution": {
          "iopub.status.busy": "2024-05-08T22:57:01.092071Z",
          "iopub.execute_input": "2024-05-08T22:57:01.092429Z",
          "iopub.status.idle": "2024-05-08T22:57:01.100770Z",
          "shell.execute_reply.started": "2024-05-08T22:57:01.092351Z",
          "shell.execute_reply": "2024-05-08T22:57:01.100043Z"
        },
        "trusted": true,
        "id": "klfLguVvPQFa"
      },
      "execution_count": null,
      "outputs": []
    },
    {
      "cell_type": "code",
      "source": [
        "test_expanded = pd.read_csv('../input/jigsaw-unintended-bias-in-toxicity-classification/test_private_expanded.csv')"
      ],
      "metadata": {
        "execution": {
          "iopub.status.busy": "2024-05-08T22:57:03.116427Z",
          "iopub.execute_input": "2024-05-08T22:57:03.116717Z",
          "iopub.status.idle": "2024-05-08T22:57:03.832440Z",
          "shell.execute_reply.started": "2024-05-08T22:57:03.116675Z",
          "shell.execute_reply": "2024-05-08T22:57:03.831796Z"
        },
        "trusted": true,
        "id": "lAZBKZdXPQFa"
      },
      "execution_count": null,
      "outputs": []
    },
    {
      "cell_type": "code",
      "source": [
        "test_expanded['model_probability'] = submission['normalized_prediction']\n",
        "test_expanded['toxicity_class'] = (test_expanded['toxicity'] >= 0.5).astype(int)\n",
        "test_expanded.head()"
      ],
      "metadata": {
        "execution": {
          "iopub.status.busy": "2024-05-08T22:57:05.472259Z",
          "iopub.execute_input": "2024-05-08T22:57:05.472560Z",
          "iopub.status.idle": "2024-05-08T22:57:05.561320Z",
          "shell.execute_reply.started": "2024-05-08T22:57:05.472515Z",
          "shell.execute_reply": "2024-05-08T22:57:05.560494Z"
        },
        "trusted": true,
        "id": "NqkXIyzlPQFb",
        "outputId": "4a50cb06-001a-47c1-a0ad-36421cc55fd3"
      },
      "execution_count": null,
      "outputs": [
        {
          "execution_count": 217,
          "output_type": "execute_result",
          "data": {
            "text/plain": "        id      ...       toxicity_class\n0  7097320      ...                    0\n1  7097321      ...                    0\n2  7097322      ...                    0\n3  7097323      ...                    0\n4  7097324      ...                    0\n\n[5 rows x 47 columns]",
            "text/html": "<div>\n<style scoped>\n    .dataframe tbody tr th:only-of-type {\n        vertical-align: middle;\n    }\n\n    .dataframe tbody tr th {\n        vertical-align: top;\n    }\n\n    .dataframe thead th {\n        text-align: right;\n    }\n</style>\n<table border=\"1\" class=\"dataframe\">\n  <thead>\n    <tr style=\"text-align: right;\">\n      <th></th>\n      <th>id</th>\n      <th>comment_text</th>\n      <th>created_date</th>\n      <th>publication_id</th>\n      <th>parent_id</th>\n      <th>article_id</th>\n      <th>rating</th>\n      <th>funny</th>\n      <th>wow</th>\n      <th>sad</th>\n      <th>likes</th>\n      <th>disagree</th>\n      <th>toxicity</th>\n      <th>severe_toxicity</th>\n      <th>obscene</th>\n      <th>sexual_explicit</th>\n      <th>identity_attack</th>\n      <th>insult</th>\n      <th>threat</th>\n      <th>identity_annotator_count</th>\n      <th>toxicity_annotator_count</th>\n      <th>male</th>\n      <th>female</th>\n      <th>transgender</th>\n      <th>other_gender</th>\n      <th>heterosexual</th>\n      <th>homosexual_gay_or_lesbian</th>\n      <th>bisexual</th>\n      <th>other_sexual_orientation</th>\n      <th>christian</th>\n      <th>jewish</th>\n      <th>muslim</th>\n      <th>hindu</th>\n      <th>buddhist</th>\n      <th>atheist</th>\n      <th>other_religion</th>\n      <th>black</th>\n      <th>white</th>\n      <th>asian</th>\n      <th>latino</th>\n      <th>other_race_or_ethnicity</th>\n      <th>physical_disability</th>\n      <th>intellectual_or_learning_disability</th>\n      <th>psychiatric_or_mental_illness</th>\n      <th>other_disability</th>\n      <th>model_probability</th>\n      <th>toxicity_class</th>\n    </tr>\n  </thead>\n  <tbody>\n    <tr>\n      <th>0</th>\n      <td>7097320</td>\n      <td>[ Integrity means that you pay your debts.]\\n\\...</td>\n      <td>2017-09-13 20:12:01.484121+00</td>\n      <td>21</td>\n      <td>5945023.0</td>\n      <td>376974</td>\n      <td>approved</td>\n      <td>0</td>\n      <td>0</td>\n      <td>0</td>\n      <td>1</td>\n      <td>2</td>\n      <td>0.0</td>\n      <td>0.0</td>\n      <td>0.0</td>\n      <td>0.0</td>\n      <td>0.0</td>\n      <td>0.0</td>\n      <td>0.0</td>\n      <td>0</td>\n      <td>4</td>\n      <td>NaN</td>\n      <td>NaN</td>\n      <td>NaN</td>\n      <td>NaN</td>\n      <td>NaN</td>\n      <td>NaN</td>\n      <td>NaN</td>\n      <td>NaN</td>\n      <td>NaN</td>\n      <td>NaN</td>\n      <td>NaN</td>\n      <td>NaN</td>\n      <td>NaN</td>\n      <td>NaN</td>\n      <td>NaN</td>\n      <td>NaN</td>\n      <td>NaN</td>\n      <td>NaN</td>\n      <td>NaN</td>\n      <td>NaN</td>\n      <td>NaN</td>\n      <td>NaN</td>\n      <td>NaN</td>\n      <td>NaN</td>\n      <td>0.566335</td>\n      <td>0</td>\n    </tr>\n    <tr>\n      <th>1</th>\n      <td>7097321</td>\n      <td>This is malfeasance by the Administrator and t...</td>\n      <td>2017-05-17 07:01:51.902566+00</td>\n      <td>55</td>\n      <td>NaN</td>\n      <td>335003</td>\n      <td>approved</td>\n      <td>0</td>\n      <td>0</td>\n      <td>0</td>\n      <td>0</td>\n      <td>0</td>\n      <td>0.1</td>\n      <td>0.0</td>\n      <td>0.0</td>\n      <td>0.0</td>\n      <td>0.0</td>\n      <td>0.1</td>\n      <td>0.0</td>\n      <td>4</td>\n      <td>10</td>\n      <td>0.0</td>\n      <td>0.0</td>\n      <td>0.0</td>\n      <td>0.0</td>\n      <td>0.0</td>\n      <td>0.0</td>\n      <td>0.0</td>\n      <td>0.0</td>\n      <td>0.0</td>\n      <td>0.0</td>\n      <td>0.0</td>\n      <td>0.0</td>\n      <td>0.0</td>\n      <td>0.0</td>\n      <td>0.0</td>\n      <td>0.0</td>\n      <td>0.0</td>\n      <td>0.0</td>\n      <td>0.0</td>\n      <td>0.0</td>\n      <td>0.0</td>\n      <td>0.0</td>\n      <td>0.0</td>\n      <td>0.0</td>\n      <td>0.923722</td>\n      <td>0</td>\n    </tr>\n    <tr>\n      <th>2</th>\n      <td>7097322</td>\n      <td>@Rmiller101 - Spoken like a true elitist. But ...</td>\n      <td>2016-12-02 17:12:12.920957+00</td>\n      <td>54</td>\n      <td>649389.0</td>\n      <td>154126</td>\n      <td>approved</td>\n      <td>0</td>\n      <td>0</td>\n      <td>0</td>\n      <td>1</td>\n      <td>0</td>\n      <td>0.3</td>\n      <td>0.0</td>\n      <td>0.0</td>\n      <td>0.0</td>\n      <td>0.0</td>\n      <td>0.2</td>\n      <td>0.0</td>\n      <td>4</td>\n      <td>10</td>\n      <td>0.0</td>\n      <td>0.0</td>\n      <td>0.0</td>\n      <td>0.0</td>\n      <td>0.0</td>\n      <td>0.0</td>\n      <td>0.0</td>\n      <td>0.0</td>\n      <td>0.0</td>\n      <td>0.0</td>\n      <td>0.0</td>\n      <td>0.0</td>\n      <td>0.0</td>\n      <td>0.0</td>\n      <td>0.0</td>\n      <td>0.0</td>\n      <td>0.0</td>\n      <td>0.0</td>\n      <td>0.0</td>\n      <td>0.0</td>\n      <td>0.0</td>\n      <td>0.0</td>\n      <td>0.0</td>\n      <td>0.0</td>\n      <td>0.999781</td>\n      <td>0</td>\n    </tr>\n    <tr>\n      <th>3</th>\n      <td>7097323</td>\n      <td>Paul: Thank you for your kind words.  I do, in...</td>\n      <td>2017-04-21 14:58:05.474657+00</td>\n      <td>13</td>\n      <td>5158666.0</td>\n      <td>328376</td>\n      <td>approved</td>\n      <td>0</td>\n      <td>0</td>\n      <td>0</td>\n      <td>0</td>\n      <td>0</td>\n      <td>0.0</td>\n      <td>0.0</td>\n      <td>0.0</td>\n      <td>0.0</td>\n      <td>0.0</td>\n      <td>0.0</td>\n      <td>0.0</td>\n      <td>0</td>\n      <td>4</td>\n      <td>NaN</td>\n      <td>NaN</td>\n      <td>NaN</td>\n      <td>NaN</td>\n      <td>NaN</td>\n      <td>NaN</td>\n      <td>NaN</td>\n      <td>NaN</td>\n      <td>NaN</td>\n      <td>NaN</td>\n      <td>NaN</td>\n      <td>NaN</td>\n      <td>NaN</td>\n      <td>NaN</td>\n      <td>NaN</td>\n      <td>NaN</td>\n      <td>NaN</td>\n      <td>NaN</td>\n      <td>NaN</td>\n      <td>NaN</td>\n      <td>NaN</td>\n      <td>NaN</td>\n      <td>NaN</td>\n      <td>NaN</td>\n      <td>0.810724</td>\n      <td>0</td>\n    </tr>\n    <tr>\n      <th>4</th>\n      <td>7097324</td>\n      <td>Sorry you missed high school. Eisenhower sent ...</td>\n      <td>2017-10-01 19:43:12.373229+00</td>\n      <td>102</td>\n      <td>6061626.0</td>\n      <td>383983</td>\n      <td>approved</td>\n      <td>1</td>\n      <td>0</td>\n      <td>0</td>\n      <td>1</td>\n      <td>0</td>\n      <td>0.0</td>\n      <td>0.0</td>\n      <td>0.0</td>\n      <td>0.0</td>\n      <td>0.0</td>\n      <td>0.0</td>\n      <td>0.0</td>\n      <td>0</td>\n      <td>4</td>\n      <td>NaN</td>\n      <td>NaN</td>\n      <td>NaN</td>\n      <td>NaN</td>\n      <td>NaN</td>\n      <td>NaN</td>\n      <td>NaN</td>\n      <td>NaN</td>\n      <td>NaN</td>\n      <td>NaN</td>\n      <td>NaN</td>\n      <td>NaN</td>\n      <td>NaN</td>\n      <td>NaN</td>\n      <td>NaN</td>\n      <td>NaN</td>\n      <td>NaN</td>\n      <td>NaN</td>\n      <td>NaN</td>\n      <td>NaN</td>\n      <td>NaN</td>\n      <td>NaN</td>\n      <td>NaN</td>\n      <td>NaN</td>\n      <td>0.633267</td>\n      <td>0</td>\n    </tr>\n  </tbody>\n</table>\n</div>"
          },
          "metadata": {}
        }
      ]
    },
    {
      "cell_type": "markdown",
      "source": [
        "# **Calculate final ADS evaluation score**"
      ],
      "metadata": {
        "id": "mRtcYmivPQFb"
      }
    },
    {
      "cell_type": "code",
      "source": [
        "import pandas as pd\n",
        "import numpy as np\n",
        "from sklearn.metrics import precision_score, recall_score, f1_score, roc_auc_score\n",
        "from tabulate import tabulate\n",
        "import matplotlib.pyplot as plt\n",
        "\n",
        "# Categorize subgroups\n",
        "CATEGORIES = {\n",
        "    'Sex': ['male', 'female'],\n",
        "    'Religion': ['christian', 'jewish', 'muslim'],\n",
        "    'Race': ['black', 'white']\n",
        "}\n",
        "\n",
        "def calculate_auc_scores(data, label_column, pred_column):\n",
        "    table_data = []\n",
        "    overall_auc = roc_auc_score(data[label_column], data[pred_column])\n",
        "    table_data.append([\"Overall AUC\", overall_auc])\n",
        "    category_metrics = {category: [] for category in CATEGORIES}\n",
        "\n",
        "    # Calculate AUC for each subgroup and categorize\n",
        "    for category, group_subgroups in CATEGORIES.items():\n",
        "        for subgroup in group_subgroups:\n",
        "            if subgroup in subgroups:\n",
        "                is_subgroup = data[subgroup] > 0.5\n",
        "                subgroup_data = data[is_subgroup]\n",
        "                non_subgroup_data = data[~is_subgroup]\n",
        "\n",
        "                if not subgroup_data.empty:\n",
        "                    subgroup_auc = roc_auc_score(subgroup_data[label_column], subgroup_data[pred_column])\n",
        "                    bpsn_data = pd.concat([data[(data[label_column] >= 0.5) & ~is_subgroup], subgroup_data[subgroup_data[label_column] < 0.5]])\n",
        "                    bpsn_auc = roc_auc_score(bpsn_data[label_column], bpsn_data[pred_column])\n",
        "                    bnsp_data = pd.concat([data[(data[label_column] < 0.5) & ~is_subgroup], subgroup_data[subgroup_data[label_column] >= 0.5]])\n",
        "                    bnsp_auc = roc_auc_score(bnsp_data[label_column], bnsp_data[pred_column])\n",
        "                    category_metrics[category].append((subgroup_auc, bpsn_auc, bnsp_auc))\n",
        "\n",
        "    # Calculate generalized mean for categories and display\n",
        "    for category, metrics in category_metrics.items():\n",
        "        if metrics:\n",
        "            gm_bias_auc = generalized_mean(metrics)\n",
        "            table_data.append([f\"{category} - Generalized Mean of Bias AUCs\", gm_bias_auc])\n",
        "\n",
        "    final_score = calculate_final_score(overall_auc, np.mean([generalized_mean(metrics) for metrics in category_metrics.values() if metrics]))\n",
        "    table_data.append([\"Final Model Score\", final_score])\n",
        "\n",
        "    print(tabulate(table_data, headers=[\"Metric\", \"Value\"], tablefmt=\"grid\"))\n",
        "\n",
        "def generalized_mean(metrics, p=-5):\n",
        "    metrics = np.array(metrics)\n",
        "    return np.power(np.mean(np.power(metrics, p)), 1/p)\n",
        "\n",
        "def calculate_final_score(overall_auc, gm_bias_auc, weight_overall=0.25, weight_bias=0.75):\n",
        "    return weight_overall * overall_auc + weight_bias * gm_bias_auc\n",
        "\n",
        "label_column = 'toxicity_class'\n",
        "pred_column = 'model_probability'\n",
        "results = calculate_auc_scores(test_expanded, label_column, pred_column)"
      ],
      "metadata": {
        "execution": {
          "iopub.status.busy": "2024-05-08T22:59:34.038615Z",
          "iopub.execute_input": "2024-05-08T22:59:34.038909Z",
          "iopub.status.idle": "2024-05-08T22:59:34.758819Z",
          "shell.execute_reply.started": "2024-05-08T22:59:34.038865Z",
          "shell.execute_reply": "2024-05-08T22:59:34.758073Z"
        },
        "trusted": true,
        "id": "3eZ90CYoPQFb",
        "outputId": "73f8a8c9-0f09-4df3-cf2c-a99ab805e68e"
      },
      "execution_count": null,
      "outputs": [
        {
          "name": "stdout",
          "text": "+------------------------------------------+----------+\n| Metric                                   |    Value |\n+==========================================+==========+\n| Overall AUC                              | 0.975293 |\n+------------------------------------------+----------+\n| Sex - Generalized Mean of Bias AUCs      | 0.956823 |\n+------------------------------------------+----------+\n| Religion - Generalized Mean of Bias AUCs | 0.939337 |\n+------------------------------------------+----------+\n| Race - Generalized Mean of Bias AUCs     | 0.912179 |\n+------------------------------------------+----------+\n| Final Model Score                        | 0.945908 |\n+------------------------------------------+----------+\n",
          "output_type": "stream"
        }
      ]
    },
    {
      "cell_type": "markdown",
      "source": [
        "# **4a) Analyze the accuracy of the ADS**"
      ],
      "metadata": {
        "id": "UOByJ8v8PQFb"
      }
    },
    {
      "cell_type": "code",
      "source": [
        "overall_metrics = {}\n",
        "\n",
        "def calculate_extended_metrics(data, label_column, pred_column):\n",
        "    table_data = []\n",
        "\n",
        "    # Overall metrics\n",
        "    overall_auc = roc_auc_score(data[label_column], data[pred_column])\n",
        "    overall_precision = precision_score(data[label_column], data[pred_column] >= 0.5)\n",
        "    overall_recall = recall_score(data[label_column], data[pred_column] >= 0.5)\n",
        "    overall_f1 = f1_score(data[label_column], data[pred_column] >= 0.5)\n",
        "\n",
        "    overall_metrics['AUC'] = overall_auc\n",
        "    overall_metrics['Precision'] = overall_precision\n",
        "    overall_metrics['Recall'] = overall_recall\n",
        "    overall_metrics['F1'] = overall_f1\n",
        "\n",
        "    table_data.append([\"Overall\", \"AUC\", overall_auc])\n",
        "    table_data.append([\"Overall\", \"Precision\", overall_precision])\n",
        "    table_data.append([\"Overall\", \"Recall\", overall_recall])\n",
        "    table_data.append([\"Overall\", \"F1\", overall_f1])\n",
        "\n",
        "    metrics_dict = {}\n",
        "    for category, subgroups in CATEGORIES.items():\n",
        "        category_metrics = {}\n",
        "        for subgroup in subgroups:\n",
        "            is_subgroup = data[subgroup].fillna(False) > 0.5\n",
        "            subgroup_data = data[is_subgroup]\n",
        "\n",
        "            if not subgroup_data.empty:\n",
        "                subgroup_auc = roc_auc_score(subgroup_data[label_column], subgroup_data[pred_column])\n",
        "                subgroup_precision = precision_score(subgroup_data[label_column], subgroup_data[pred_column] >= 0.5)\n",
        "                subgroup_recall = recall_score(subgroup_data[label_column], subgroup_data[pred_column] >= 0.5)\n",
        "                subgroup_f1 = f1_score(subgroup_data[label_column], subgroup_data[pred_column] >= 0.5)\n",
        "\n",
        "                category_metrics[subgroup] = {'AUC': subgroup_auc, 'Precision': subgroup_precision, 'Recall': subgroup_recall, 'F1': subgroup_f1}\n",
        "\n",
        "        # Aggregate category metrics\n",
        "        metrics_dict[category] = category_metrics\n",
        "        for metric in ['AUC', 'Precision', 'Recall', 'F1']:\n",
        "            avg_metric = np.mean([m[metric] for m in category_metrics.values()])\n",
        "            table_data.append([category, metric, avg_metric])\n",
        "\n",
        "    print(tabulate(table_data, headers=[\"Group\", \"Metric\", \"Value\"], tablefmt=\"grid\"))\n",
        "    return metrics_dict\n",
        "\n",
        "label_column = 'toxicity_class'\n",
        "pred_column = 'model_probability'\n",
        "category_metrics = calculate_extended_metrics(test_expanded, label_column, pred_column)"
      ],
      "metadata": {
        "execution": {
          "iopub.status.busy": "2024-05-08T23:00:11.533589Z",
          "iopub.execute_input": "2024-05-08T23:00:11.533897Z",
          "iopub.status.idle": "2024-05-08T23:00:12.043515Z",
          "shell.execute_reply.started": "2024-05-08T23:00:11.533851Z",
          "shell.execute_reply": "2024-05-08T23:00:12.042638Z"
        },
        "trusted": true,
        "id": "DNsLRsMiPQFb",
        "outputId": "6201cdab-2451-4d6e-cdb3-13fdc0709281"
      },
      "execution_count": null,
      "outputs": [
        {
          "name": "stdout",
          "text": "+----------+-----------+-----------+\n| Group    | Metric    |     Value |\n+==========+===========+===========+\n| Overall  | AUC       | 0.975293  |\n+----------+-----------+-----------+\n| Overall  | Precision | 0.0815522 |\n+----------+-----------+-----------+\n| Overall  | Recall    | 0.999871  |\n+----------+-----------+-----------+\n| Overall  | F1        | 0.150804  |\n+----------+-----------+-----------+\n| Sex      | AUC       | 0.944224  |\n+----------+-----------+-----------+\n| Sex      | Precision | 0.174168  |\n+----------+-----------+-----------+\n| Sex      | Recall    | 0.998489  |\n+----------+-----------+-----------+\n| Sex      | F1        | 0.296506  |\n+----------+-----------+-----------+\n| Religion | AUC       | 0.914865  |\n+----------+-----------+-----------+\n| Religion | Precision | 0.175145  |\n+----------+-----------+-----------+\n| Religion | Recall    | 1         |\n+----------+-----------+-----------+\n| Religion | F1        | 0.295908  |\n+----------+-----------+-----------+\n| Race     | AUC       | 0.866566  |\n+----------+-----------+-----------+\n| Race     | Precision | 0.325757  |\n+----------+-----------+-----------+\n| Race     | Recall    | 1         |\n+----------+-----------+-----------+\n| Race     | F1        | 0.491031  |\n+----------+-----------+-----------+\n",
          "output_type": "stream"
        }
      ]
    },
    {
      "cell_type": "code",
      "source": [
        "def calculate_gap_metrics(overall_metrics, category_metrics):\n",
        "    table_data = []\n",
        "\n",
        "    gap_metrics = {}\n",
        "    for category, sub_metrics in category_metrics.items():\n",
        "        avg_metrics = {}\n",
        "        for metric in ['AUC', 'Precision', 'Recall', 'F1']:\n",
        "            avg_metrics[metric] = np.mean([subgroup_metrics[metric] for subgroup_metrics in sub_metrics.values()])\n",
        "\n",
        "        # Calculate gap between overall metrics and category average metrics\n",
        "        category_gaps = {\n",
        "            'AUC Gap': overall_metrics['AUC'] - avg_metrics['AUC'],\n",
        "            'Precision Gap': overall_metrics['Precision'] - avg_metrics['Precision'],\n",
        "            'Recall Gap': overall_metrics['Recall'] - avg_metrics['Recall'],\n",
        "            'F1 Gap': overall_metrics['F1'] - avg_metrics['F1']\n",
        "        }\n",
        "\n",
        "        gap_metrics[category] = category_gaps\n",
        "        for metric, gap in category_gaps.items():\n",
        "            table_data.append([category, metric, gap])\n",
        "\n",
        "    print(tabulate(table_data, headers=[\"Category\", \"Metric\", \"Gap Value\"], tablefmt=\"grid\"))\n",
        "    return gap_metrics\n",
        "\n",
        "gap_metrics = calculate_gap_metrics(overall_metrics, category_metrics)"
      ],
      "metadata": {
        "execution": {
          "iopub.status.busy": "2024-05-08T23:00:24.384972Z",
          "iopub.execute_input": "2024-05-08T23:00:24.385299Z",
          "iopub.status.idle": "2024-05-08T23:00:24.398950Z",
          "shell.execute_reply.started": "2024-05-08T23:00:24.385238Z",
          "shell.execute_reply": "2024-05-08T23:00:24.398046Z"
        },
        "trusted": true,
        "id": "zBLAhHl8PQFc",
        "outputId": "6def06dd-e70a-4270-98b3-b8440642f00f"
      },
      "execution_count": null,
      "outputs": [
        {
          "name": "stdout",
          "text": "+------------+---------------+--------------+\n| Category   | Metric        |    Gap Value |\n+============+===============+==============+\n| Sex        | AUC Gap       |  0.0310692   |\n+------------+---------------+--------------+\n| Sex        | Precision Gap | -0.0926162   |\n+------------+---------------+--------------+\n| Sex        | Recall Gap    |  0.00138199  |\n+------------+---------------+--------------+\n| Sex        | F1 Gap        | -0.145701    |\n+------------+---------------+--------------+\n| Religion   | AUC Gap       |  0.0604286   |\n+------------+---------------+--------------+\n| Religion   | Precision Gap | -0.0935926   |\n+------------+---------------+--------------+\n| Religion   | Recall Gap    | -0.000128584 |\n+------------+---------------+--------------+\n| Religion   | F1 Gap        | -0.145104    |\n+------------+---------------+--------------+\n| Race       | AUC Gap       |  0.108727    |\n+------------+---------------+--------------+\n| Race       | Precision Gap | -0.244205    |\n+------------+---------------+--------------+\n| Race       | Recall Gap    | -0.000128584 |\n+------------+---------------+--------------+\n| Race       | F1 Gap        | -0.340227    |\n+------------+---------------+--------------+\n",
          "output_type": "stream"
        }
      ]
    },
    {
      "cell_type": "code",
      "source": [
        "def plot_metrics(category_metrics, gap_metrics):\n",
        "    categories = list(category_metrics.keys())\n",
        "    first_category = next(iter(category_metrics))\n",
        "    first_subgroup = next(iter(category_metrics[first_category]))\n",
        "    metrics = list(category_metrics[first_category][first_subgroup].keys())\n",
        "\n",
        "    total_metrics = len(metrics)\n",
        "    fig, axs = plt.subplots(total_metrics * 2, 1, figsize=(10, 6 * total_metrics))\n",
        "\n",
        "    # Plotting the original metrics\n",
        "    for i, metric in enumerate(metrics):\n",
        "        category_avg_values = []\n",
        "        for category in categories:\n",
        "            # Calculate average of metric across each category\n",
        "            avg_metric = np.mean([sub_metrics[metric] for sub_metrics in category_metrics[category].values()])\n",
        "            category_avg_values.append(avg_metric)\n",
        "\n",
        "        axs[i].bar(categories, category_avg_values, color='skyblue', label=f'{metric} by Category')\n",
        "        axs[i].set_ylabel(metric)\n",
        "        axs[i].set_title(f\"{metric} across Categories\")\n",
        "        axs[i].axhline(y=overall_metrics[metric], color='red', linestyle='--', label='Overall ' + metric)\n",
        "        axs[i].legend()\n",
        "        axs[i].set_xticklabels(categories, rotation=45, ha=\"right\")\n",
        "\n",
        "    # Plotting the gap metrics\n",
        "    for j, metric in enumerate(metrics):\n",
        "        gap_values = [gap_metrics[category][f'{metric} Gap'] for category in categories]\n",
        "        axs[j + total_metrics].bar(categories, gap_values, color='orange', label=f'Gap in {metric}')\n",
        "        axs[j + total_metrics].set_ylabel(f'Gap in {metric}')\n",
        "        axs[j + total_metrics].set_title(f\"Gap in {metric} across Categories\")\n",
        "        axs[j + total_metrics].axhline(y=0, color='gray', linestyle='--')\n",
        "        axs[j + total_metrics].legend()\n",
        "        axs[j + total_metrics].set_xticklabels(categories, rotation=45, ha=\"right\")\n",
        "\n",
        "    plt.tight_layout()\n",
        "    plt.subplots_adjust(hspace=0.5)\n",
        "    plt.show()\n",
        "\n",
        "plot_metrics(category_metrics, gap_metrics)"
      ],
      "metadata": {
        "execution": {
          "iopub.status.busy": "2024-05-08T23:01:28.793427Z",
          "iopub.execute_input": "2024-05-08T23:01:28.793721Z",
          "iopub.status.idle": "2024-05-08T23:01:30.593171Z",
          "shell.execute_reply.started": "2024-05-08T23:01:28.793679Z",
          "shell.execute_reply": "2024-05-08T23:01:30.592342Z"
        },
        "trusted": true,
        "id": "lpRYA0TtPQFc",
        "outputId": "9e12858f-3abb-4229-f53e-1ffad57ae2c6"
      },
      "execution_count": null,
      "outputs": [
        {
          "output_type": "display_data",
          "data": {
            "text/plain": "<Figure size 720x1728 with 8 Axes>",
            "image/png": "[encoded data removed]"
          },
          "metadata": {
            "needs_background": "light"
          }
        }
      ]
    },
    {
      "cell_type": "markdown",
      "source": [
        "# **4b) Analyze the fairness of the ADS**"
      ],
      "metadata": {
        "id": "nyj2LEoOPQFf"
      }
    },
    {
      "cell_type": "code",
      "source": [
        "from sklearn.metrics import confusion_matrix\n",
        "\n",
        "def calculate_fairness_metrics(data, label_column, pred_column):\n",
        "    overall_metrics = calculate_confusion_metrics(data, label_column, pred_column)\n",
        "\n",
        "    table_data = []\n",
        "\n",
        "    fairness_metrics = {}\n",
        "    for category, subgroups in CATEGORIES.items():\n",
        "        category_data = pd.DataFrame()\n",
        "\n",
        "        # Aggregate data for the category\n",
        "        for subgroup in subgroups:\n",
        "            subgroup_data = data[data[subgroup].fillna(False) > 0.5]\n",
        "            category_data = pd.concat([category_data, subgroup_data])\n",
        "\n",
        "        if category_data.empty:\n",
        "            table_data.append([category, \"No data available\", \"\", \"\", \"\"])\n",
        "            continue\n",
        "\n",
        "        category_metrics = calculate_confusion_metrics(category_data, label_column, pred_column)\n",
        "\n",
        "        # Calculate Fairness Metrics\n",
        "        demographic_parity_difference = category_metrics['Positive Rate'] - overall_metrics['Positive Rate']\n",
        "        equal_opportunity_difference = category_metrics['TPR'] - overall_metrics['TPR']\n",
        "        equalized_odds_difference = (category_metrics['TPR'] - overall_metrics['TPR'], category_metrics['FPR'] - overall_metrics['FPR'])\n",
        "        disparate_impact = category_metrics['Positive Rate'] / overall_metrics['Positive Rate'] if overall_metrics['Positive Rate'] != 0 else None\n",
        "\n",
        "        fairness_metrics[category] = {\n",
        "            'Demographic Parity Difference': demographic_parity_difference,\n",
        "            'Equal Opportunity Difference': equal_opportunity_difference,\n",
        "            'Equalized Odds Difference': equalized_odds_difference,\n",
        "            'Disparate Impact': disparate_impact\n",
        "        }\n",
        "\n",
        "        table_data.append([\n",
        "            category,\n",
        "            f\"DPD: {demographic_parity_difference:.4f}\",\n",
        "            f\"EOD: {equal_opportunity_difference:.4f}\",\n",
        "            f\"EOD (TPR): {equalized_odds_difference[0]:.4f}, FPR: {equalized_odds_difference[1]:.4f}\",\n",
        "            f\"DI: {disparate_impact:.4f}\" if disparate_impact is not None else \"Undefined\"\n",
        "        ])\n",
        "\n",
        "    print(tabulate(table_data, headers=[\"Category\", \"Demographic Parity Difference\", \"Equal Opportunity Difference\", \"Equalized Odds Difference\", \"Disparate Impact\"], tablefmt=\"grid\"))\n",
        "\n",
        "    return fairness_metrics\n",
        "\n",
        "def calculate_confusion_metrics(data, label_column, pred_column):\n",
        "    \"\"\" Helper function to calculate TPR, FPR, and other metrics from confusion matrix. \"\"\"\n",
        "    cm = confusion_matrix(data[label_column], data[pred_column] >= 0.5)\n",
        "    TN, FP, FN, TP = cm.ravel()\n",
        "\n",
        "    TPR = TP / (TP + FN) if TP + FN != 0 else 0  # True Positive Rate\n",
        "    FPR = FP / (TN + FP) if TN + FP != 0 else 0  # False Positive Rate\n",
        "    positive_rate = (TP + FP) / len(data) if len(data) != 0 else 0  # Rate of positive predictions\n",
        "\n",
        "    return {\n",
        "        'TPR': TPR,\n",
        "        'FPR': FPR,\n",
        "        'Positive Rate': positive_rate\n",
        "    }\n",
        "\n",
        "fairness_metrics = calculate_fairness_metrics(test_expanded, 'toxicity_class', 'model_probability')"
      ],
      "metadata": {
        "execution": {
          "iopub.status.busy": "2024-05-08T23:04:02.867151Z",
          "iopub.execute_input": "2024-05-08T23:04:02.867494Z",
          "iopub.status.idle": "2024-05-08T23:04:03.650262Z",
          "shell.execute_reply.started": "2024-05-08T23:04:02.867434Z",
          "shell.execute_reply": "2024-05-08T23:04:03.649390Z"
        },
        "trusted": true,
        "id": "7qHEyihtPQFf",
        "outputId": "f80edcfb-6230-449c-9996-c54ab2d01e0f"
      },
      "execution_count": null,
      "outputs": [
        {
          "name": "stdout",
          "text": "+------------+---------------------------------+--------------------------------+----------------------------------+--------------------+\n| Category   | Demographic Parity Difference   | Equal Opportunity Difference   | Equalized Odds Difference        | Disparate Impact   |\n+============+=================================+================================+==================================+====================+\n| Sex        | DPD: -0.1670                    | EOD: -0.0015                   | EOD (TPR): -0.0015, FPR: -0.1956 | DI: 0.8296         |\n+------------+---------------------------------+--------------------------------+----------------------------------+--------------------+\n| Religion   | DPD: -0.0751                    | EOD: 0.0001                    | EOD (TPR): 0.0001, FPR: -0.0902  | DI: 0.9233         |\n+------------+---------------------------------+--------------------------------+----------------------------------+--------------------+\n| Race       | DPD: 0.0033                     | EOD: 0.0001                    | EOD (TPR): 0.0001, FPR: -0.0028  | DI: 1.0033         |\n+------------+---------------------------------+--------------------------------+----------------------------------+--------------------+\n",
          "output_type": "stream"
        }
      ]
    },
    {
      "cell_type": "code",
      "source": [
        "def plot_fairness_metrics(fairness_metrics):\n",
        "    category = next(iter(fairness_metrics))\n",
        "    metrics = list(fairness_metrics[category].keys())\n",
        "    n_metrics = len(metrics)\n",
        "    fig, axes = plt.subplots(n_metrics, 1, figsize=(10, 5 * n_metrics))\n",
        "\n",
        "    categories = list(fairness_metrics.keys())  # List categories\n",
        "\n",
        "    for i, metric in enumerate(metrics):\n",
        "        # Prepare values for each metric across categories\n",
        "        values = [fairness_metrics[category][metric] if metric != 'Equalized Odds Difference' else fairness_metrics[category][metric][0] for category in categories]\n",
        "\n",
        "        if metric == 'Equalized Odds Difference':  # Special handling for Equalized Odds which has TPR and FPR components\n",
        "            values_tpr = [fairness_metrics[category][metric][0] for category in categories]\n",
        "            values_fpr = [fairness_metrics[category][metric][1] for category in categories]\n",
        "\n",
        "            axes[i].barh(categories, values_tpr, color='blue', label='TPR Difference')\n",
        "            axes[i].barh(categories, values_fpr, left=values_tpr, color='green', label='FPR Difference')\n",
        "            axes[i].set_title('Equalized Odds Difference (TPR and FPR)')\n",
        "        else:\n",
        "            axes[i].barh(categories, values, color='blue', label=metric.replace('_', ' ').title())\n",
        "            axes[i].set_title(metric.replace('_', ' ').title())\n",
        "\n",
        "        axes[i].axvline(0, color='gray', linewidth=0.8)\n",
        "        axes[i].set_xlabel('Value')\n",
        "        axes[i].invert_yaxis()\n",
        "        for j, value in enumerate(values):\n",
        "            axes[i].text(value, j, f'{value:.2f}', ha='center', va='center', color='white', fontweight='bold')\n",
        "\n",
        "        axes[i].legend()\n",
        "\n",
        "    plt.tight_layout()\n",
        "    plt.show()\n",
        "\n",
        "plot_fairness_metrics(fairness_metrics)"
      ],
      "metadata": {
        "execution": {
          "iopub.status.busy": "2024-05-08T23:04:05.528904Z",
          "iopub.execute_input": "2024-05-08T23:04:05.529244Z",
          "iopub.status.idle": "2024-05-08T23:04:06.724240Z",
          "shell.execute_reply.started": "2024-05-08T23:04:05.529184Z",
          "shell.execute_reply": "2024-05-08T23:04:06.723386Z"
        },
        "trusted": true,
        "id": "dMyXWfpCPQFf",
        "outputId": "718371c9-36ab-4278-e2d8-dd1a17a2319d"
      },
      "execution_count": null,
      "outputs": [
        {
          "output_type": "display_data",
          "data": {
            "text/plain": "<Figure size 720x1440 with 4 Axes>",
            "image/png": "[encoded data removed]"
          },
          "metadata": {
            "needs_background": "light"
          }
        }
      ]
    },
    {
      "cell_type": "markdown",
      "source": [
        "# **4c) Develop additional methods to analyze ADS performance:**"
      ],
      "metadata": {
        "id": "xcHT5AF4PQFg"
      }
    },
    {
      "cell_type": "code",
      "source": [
        "import pandas as pd\n",
        "\n",
        "CATEGORIES = {\n",
        "    'Sex': ['male', 'female'],\n",
        "    'Religion': ['christian', 'jewish', 'muslim'],\n",
        "    'Race': ['black', 'white']\n",
        "}\n",
        "\n",
        "def get_top_comments(data, text_column, target_column, x, category, subgroup=None):\n",
        "    \"\"\"\n",
        "    Retrieves the top X comment texts from a DataFrame based on a score, optionally filtering by category subgroup.\n",
        "\n",
        "    Parameters:\n",
        "        data (pd.DataFrame): The DataFrame containing the data.\n",
        "        text_column (str): The name of the column containing the text of the comments.\n",
        "        target_column (str): The name of the column containing the scores.\n",
        "        x (int): The number of top comments to return.\n",
        "        category (str): The category to filter by (e.g., 'Sex', 'Religion', 'Race').\n",
        "        subgroup (str, optional): The specific subgroup within the category to filter by (e.g., 'male', 'female').\n",
        "                                   If not specified, comments from all subgroups in the category are considered.\n",
        "\n",
        "    Returns:\n",
        "        pd.DataFrame: A DataFrame containing the top X comments based on the score.\n",
        "    \"\"\"\n",
        "    if category in CATEGORIES:\n",
        "        if subgroup:\n",
        "            if subgroup in CATEGORIES[category]:\n",
        "                # Filter data by the specific subgroup\n",
        "                filtered_data = data[data[subgroup] > 0.5]\n",
        "            else:\n",
        "                raise ValueError(\"Invalid subgroup specified for the given category\")\n",
        "        else:\n",
        "            # Filter data by any subgroup within the category\n",
        "            filtered_data = data[data[CATEGORIES[category]].sum(axis=1) > 0.5]\n",
        "\n",
        "        sorted_data = filtered_data.sort_values(by=target_column, ascending=False)\n",
        "        top_comments = sorted_data.head(x)\n",
        "        for index, row in top_comments.iterrows():\n",
        "            print(f\"{row['comment_text']}\\n\")\n",
        "        return top_comments[[text_column, target_column]]\n",
        "    else:\n",
        "        raise ValueError(\"Invalid category specified\")\n",
        "\n",
        "print(\"Most toxic comments in the Sex category:\")\n",
        "sex_comments = get_top_comments(test_expanded, 'comment_text', 'model_probability', 5, 'Sex')\n",
        "\n",
        "print(f\"\\nMost toxic comments in the Male subgroup:\")\n",
        "sex_comments = get_top_comments(test_expanded, 'comment_text', 'model_probability', 3, 'Sex', 'male')\n",
        "\n",
        "print(f\"\\nMost toxic comments in the Female subgroup:\")\n",
        "sex_comments = get_top_comments(test_expanded, 'comment_text', 'model_probability', 3, 'Sex', 'female')\n",
        "\n",
        "print(\"Most toxic comments in the Race category:\")\n",
        "race_comments = get_top_comments(test_expanded, 'comment_text', 'model_probability', 5, 'Race')\n",
        "\n",
        "print(\"Most toxic comments in the Black subgroup:\")\n",
        "race_comments = get_top_comments(test_expanded, 'comment_text', 'model_probability', 3, 'Race', 'black')\n",
        "\n",
        "print(\"Most toxic comments in the White subgroup:\")\n",
        "race_comments = get_top_comments(test_expanded, 'comment_text', 'model_probability', 3, 'Race', 'white')\n",
        "\n",
        "print(\"Most toxic comments in the Religion category:\")\n",
        "religion_comments = get_top_comments(test_expanded, 'comment_text', 'model_probability', 5, 'Religion')"
      ],
      "metadata": {
        "execution": {
          "iopub.status.busy": "2024-05-08T23:50:05.231423Z",
          "iopub.execute_input": "2024-05-08T23:50:05.231739Z",
          "iopub.status.idle": "2024-05-08T23:50:05.308782Z",
          "shell.execute_reply.started": "2024-05-08T23:50:05.231695Z",
          "shell.execute_reply": "2024-05-08T23:50:05.307981Z"
        },
        "trusted": true,
        "id": "VHaKM8J3PQFg",
        "outputId": "239577df-aaf9-4e3b-8e38-3b721d6fe6ee"
      },
      "execution_count": null,
      "outputs": [
        {
          "name": "stdout",
          "text": "Most toxic comments in the Sex category:\nHe is a sawed off berkely idiot with little man syndrome. Just the facts\n\nThe man is a total idiot and a buffoon.  I can't believe he doesn't look in the mirror and start laughing.  Of course, he has no sense of humor so he probably doesn't ever laugh.\n\nhere is the stupidest man on the planet, and his puppet, eh Butts. $#@! up Ontario and a national disgrace as well. Admit it, you are an idiot, proved it in Ontario under lying Dalton and just moved to the National stage.\n\nJay whatever is a dick - he should stay in the US instead of coming back a failure with his tail between his legs - the other guy is just another ron mclean playing the straight man to the dick sitting next to him - both are complete morons and not welcome back\n\nYou want 'malignant'?  How about holding up a decapitated effigy of the President and Democrats think it's a hoot?\nHow about producing plays where the President is assassinated and the left goes wild?\nHow about a Democrat going to a baseball field to massacre Republicans and the Democrats...especially the scum Obama...show little outrage?\nAnd then we have Democrat women dressing up in the \"C\" caps and vagina suits prancing around and calling out for his assassination.\nMALIGNANT?  YOU are an IDIOT!\n\n\nMost toxic comments in the Male subgroup:\nHe is a sawed off berkely idiot with little man syndrome. Just the facts\n\nThe man is a total idiot and a buffoon.  I can't believe he doesn't look in the mirror and start laughing.  Of course, he has no sense of humor so he probably doesn't ever laugh.\n\nhere is the stupidest man on the planet, and his puppet, eh Butts. $#@! up Ontario and a national disgrace as well. Admit it, you are an idiot, proved it in Ontario under lying Dalton and just moved to the National stage.\n\n\nMost toxic comments in the Female subgroup:\nYou want 'malignant'?  How about holding up a decapitated effigy of the President and Democrats think it's a hoot?\nHow about producing plays where the President is assassinated and the left goes wild?\nHow about a Democrat going to a baseball field to massacre Republicans and the Democrats...especially the scum Obama...show little outrage?\nAnd then we have Democrat women dressing up in the \"C\" caps and vagina suits prancing around and calling out for his assassination.\nMALIGNANT?  YOU are an IDIOT!\n\nStupid people doing stupid things, still doesn't mean that no one should own firearms. This sounds like a party of goobers who should have had supervision if they wanted to play with scissors. I hope that woman heals (I'll pray), what a BIG stooopid thing! Dancing with a gun you stupid tard? Why???!\n\nYeah instead they should let some dumb hick or burned out crack head beat the shit out of the women their with.\n\nMost toxic comments in the Race category:\nOf course he wasn't legitimate because he was black. Isn't that your point. You racist fucking asshole?\n\nWhite people suck..\nBlack people suck..\nYellow people suck..\nBrown people suck..\nHumans in general suck...\nRant over thank you...\n\nVictoria Leon Guerrero is a stupid white girl who pretends to be a native Chamorro.  She also pretends to hold a PHD, when, in reality, she has a terminal masters degree and will never have a PHD.  Stop playing Dr. Chamorro and go back to being stupid white girl.\n\nTar and Feather that Dumb FUGLY Nigga!!!!!!!\n\nHis handlers obviously pulled his ears and made him call out the klan and white supremacists \"and other hate groups\".\nThe man is an inept moron.\n\nMost toxic comments in the Black subgroup:\nOf course he wasn't legitimate because he was black. Isn't that your point. You racist fucking asshole?\n\nWhite people suck..\nBlack people suck..\nYellow people suck..\nBrown people suck..\nHumans in general suck...\nRant over thank you...\n\nTar and Feather that Dumb FUGLY Nigga!!!!!!!\n\nMost toxic comments in the White subgroup:\nWhite people suck..\nBlack people suck..\nYellow people suck..\nBrown people suck..\nHumans in general suck...\nRant over thank you...\n\nVictoria Leon Guerrero is a stupid white girl who pretends to be a native Chamorro.  She also pretends to hold a PHD, when, in reality, she has a terminal masters degree and will never have a PHD.  Stop playing Dr. Chamorro and go back to being stupid white girl.\n\nHis handlers obviously pulled his ears and made him call out the klan and white supremacists \"and other hate groups\".\nThe man is an inept moron.\n\nMost toxic comments in the Religion category:\nmuslims have been  told to prolificate - justin is a complete fool.\n\nHey Johnny, apparently you live on Jupiter, because you're so utterly uninformed that you don't know about Dylan Roof.  Racist, white supremacist Christian who committed a deplorable act of terror.  So in other words, you're an idiot as well as a bigot.\n\nPeter Stockland would you like a cemetery adjacent to your home? I bet you wouldn't you hypocrite piece of garbage! Who cares if it's Muslim, Jew or any other kind. You are just trying to sensationalize the Muslim part of the application. Whether it's the Muslims or the Indians your garbage is getting old. Go write greeting cards for hallmark as you are nothing but a clown.\n\n... damn straight cash is king in the USA... bigot bakers can suck daddy's big ol' ... ;)\n\nMay the USA be RID of 'christian' Republican racist sexist bigots ASAP these folks are holding the USA back!!!  I'll dance on their graves when they DIE!!\n\nBecause of idiots like him the number of Catholics who attend church on Sunday drops off.  I say we support the Catholic Church on Sunday with black buttons in the collection basket till this crap stops.  Doesn't Catholic Charities accept enough federal money taking in all those illegals?\n\n",
          "output_type": "stream"
        }
      ]
    }
  ]
}