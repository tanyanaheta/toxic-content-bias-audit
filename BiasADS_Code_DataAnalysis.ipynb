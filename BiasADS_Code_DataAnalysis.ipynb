{
 "cells": [
  {
   "cell_type": "code",
   "execution_count": null,
   "metadata": {},
   "outputs": [],
   "source": [
    "from google.colab import drive\n",
    "drive.mount('/content/drive')"
   ]
  },
  {
   "cell_type": "code",
   "execution_count": null,
   "metadata": {},
   "outputs": [],
   "source": [
    "import pandas as pd\n",
    "import matplotlib.pyplot as plt\n",
    "import numpy as np\n",
    "import seaborn as sns\n",
    "\n",
    "# Load the data\n",
    "train_data = pd.read_csv('/content/drive/MyDrive/Spring_2024/RDS/Project/train.csv')\n",
    "print(train_data.head())\n",
    "print(train_data.dtypes)\n",
    "\n",
    "# Define the identity columns of interest\n",
    "identity_columns = ['male', 'female', 'black', 'white', 'jewish', 'christian', 'muslim']"
   ]
  },
  {
   "cell_type": "code",
   "execution_count": null,
   "metadata": {},
   "outputs": [],
   "source": [
    "# Calculate average toxicity scores for comments with any identity information vs. those without\n",
    "identity_present = train_data.dropna(subset=identity_columns)\n",
    "identity_absent = train_data[identity_columns].isna().all(axis=1)\n",
    "\n",
    "average_toxicity = pd.DataFrame({\n",
    "    \"Condition\": [\"With Identity Info\", \"Without Identity Info\"],\n",
    "    \"Average Toxicity Score\": [\n",
    "        identity_present['target'].mean(),\n",
    "        train_data.loc[identity_absent, 'target'].mean()\n",
    "    ]\n",
    "})\n",
    "\n",
    "# Calculate the percentage of missing values in identity columns\n",
    "missing_percentage = (train_data[identity_columns].isnull().mean() * 100).reset_index()\n",
    "missing_percentage.columns = ['Identity', 'Percentage Missing']\n",
    "\n",
    "print(\"Average Toxicity Scores:\")\n",
    "print(average_toxicity.to_string(index=False))\n",
    "\n",
    "print(\"\\nPercentage of Missing Data for Identity Columns:\")\n",
    "print(missing_percentage.to_string(index=False))\n",
    "\n"
   ]
  },
  {
   "cell_type": "code",
   "execution_count": null,
   "metadata": {},
   "outputs": [],
   "source": [
    "# Stacked Bar Graph for Missing Data Visualization\n",
    "plt.figure(figsize=(10, 6))\n",
    "non_missing_counts = (train_data[identity_columns].notna().sum()).tolist()\n",
    "missing_counts = (train_data[identity_columns].isna().sum()).tolist()\n",
    "labels = identity_columns\n",
    "\n",
    "x = np.arange(len(labels))\n",
    "width = 0.35\n",
    "\n",
    "plt.bar(x - width/2, non_missing_counts, width, label='Present', color='green')\n",
    "plt.bar(x + width/2, missing_counts, width, label='Missing', color='red')\n",
    "\n",
    "plt.ylabel('Counts')\n",
    "plt.title('Presence of Identity Information in Comments')\n",
    "plt.xticks(x, labels, rotation=45)\n",
    "plt.legend()\n",
    "\n",
    "plt.tight_layout()\n",
    "plt.show()"
   ]
  },
  {
   "cell_type": "code",
   "execution_count": null,
   "metadata": {},
   "outputs": [],
   "source": [
    "# Calculate average toxicity scores for comments with and without identity information\n",
    "identity_present = train_data.dropna(subset=identity_columns)\n",
    "identity_absent = train_data[identity_columns].isna().all(axis=1)\n",
    "\n",
    "print(\"\\nAverage Toxicity Scores:\")\n",
    "print(f\"With Identity Info: {identity_present['target'].mean()}\")\n",
    "print(f\"Without Identity Info: {train_data.loc[identity_absent, 'target'].mean()}\")\n",
    "\n",
    "# Correlation Matrix of Numeric Features including identity mentions\n",
    "numerical_columns = ['target', 'severe_toxicity', 'obscene', 'identity_attack', 'insult', 'threat'] + identity_columns\n",
    "correlation_matrix = train_data[numerical_columns].corr()\n",
    "\n",
    "# Heatmap of correlations\n",
    "plt.figure(figsize=(12, 10))\n",
    "sns.heatmap(correlation_matrix, annot=True, fmt=\".2f\", cmap='coolwarm')\n",
    "plt.title('Correlation Matrix of Numeric and Identity Features')\n",
    "plt.xticks(rotation=45)\n",
    "plt.yticks(rotation=0)\n",
    "plt.tight_layout()\n",
    "plt.show()"
   ]
  }
 ],
 "metadata": {},
 "nbformat": 4,
 "nbformat_minor": 0
}
